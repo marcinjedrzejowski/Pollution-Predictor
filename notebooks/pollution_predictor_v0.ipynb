{
 "cells": [
  {
   "cell_type": "markdown",
   "metadata": {},
   "source": [
    "### Imports"
   ]
  },
  {
   "cell_type": "code",
   "execution_count": 31,
   "metadata": {},
   "outputs": [],
   "source": [
    "from rich import print\n",
    "from river import stream, compose, preprocessing, neighbors\n",
    "from river import evaluate\n",
    "from river import metrics"
   ]
  },
  {
   "cell_type": "markdown",
   "metadata": {},
   "source": [
    "### Load and Preprocess Data"
   ]
  },
  {
   "cell_type": "code",
   "execution_count": 32,
   "metadata": {},
   "outputs": [
    {
     "data": {
      "text/html": [
       "<pre style=\"white-space:pre;overflow-x:auto;line-height:normal;font-family:Menlo,'DejaVu Sans Mono',consolas,'Courier New',monospace\"><span style=\"font-weight: bold\">{</span>\n",
       "    <span style=\"color: #008000; text-decoration-color: #008000\">'date'</span>: <span style=\"color: #008000; text-decoration-color: #008000\">'2010-01-02 00:00:00'</span>,\n",
       "    <span style=\"color: #008000; text-decoration-color: #008000\">'dew'</span>: <span style=\"color: #008080; text-decoration-color: #008080; font-weight: bold\">-16.0</span>,\n",
       "    <span style=\"color: #008000; text-decoration-color: #008000\">'temp'</span>: <span style=\"color: #008080; text-decoration-color: #008080; font-weight: bold\">-4.0</span>,\n",
       "    <span style=\"color: #008000; text-decoration-color: #008000\">'press'</span>: <span style=\"color: #008080; text-decoration-color: #008080; font-weight: bold\">1020.0</span>,\n",
       "    <span style=\"color: #008000; text-decoration-color: #008000\">'wnd_dir'</span>: <span style=\"color: #008080; text-decoration-color: #008080; font-weight: bold\">1.0</span>,\n",
       "    <span style=\"color: #008000; text-decoration-color: #008000\">'wnd_spd'</span>: <span style=\"color: #008080; text-decoration-color: #008080; font-weight: bold\">1.79</span>,\n",
       "    <span style=\"color: #008000; text-decoration-color: #008000\">'snow'</span>: <span style=\"color: #008080; text-decoration-color: #008080; font-weight: bold\">0.0</span>,\n",
       "    <span style=\"color: #008000; text-decoration-color: #008000\">'rain'</span>: <span style=\"color: #008080; text-decoration-color: #008080; font-weight: bold\">0.0</span>\n",
       "<span style=\"font-weight: bold\">}</span>\n",
       "</pre>\n"
      ],
      "text/plain": [
       "\u001b[1m{\u001b[0m\n",
       "    \u001b[32m'date'\u001b[0m: \u001b[32m'2010-01-02 00:00:00'\u001b[0m,\n",
       "    \u001b[32m'dew'\u001b[0m: \u001b[1;36m-16.0\u001b[0m,\n",
       "    \u001b[32m'temp'\u001b[0m: \u001b[1;36m-4.0\u001b[0m,\n",
       "    \u001b[32m'press'\u001b[0m: \u001b[1;36m1020.0\u001b[0m,\n",
       "    \u001b[32m'wnd_dir'\u001b[0m: \u001b[1;36m1.0\u001b[0m,\n",
       "    \u001b[32m'wnd_spd'\u001b[0m: \u001b[1;36m1.79\u001b[0m,\n",
       "    \u001b[32m'snow'\u001b[0m: \u001b[1;36m0.0\u001b[0m,\n",
       "    \u001b[32m'rain'\u001b[0m: \u001b[1;36m0.0\u001b[0m\n",
       "\u001b[1m}\u001b[0m\n"
      ]
     },
     "metadata": {},
     "output_type": "display_data"
    },
    {
     "data": {
      "text/html": [
       "<pre style=\"white-space:pre;overflow-x:auto;line-height:normal;font-family:Menlo,'DejaVu Sans Mono',consolas,'Courier New',monospace\"><span style=\"color: #008080; text-decoration-color: #008080; font-weight: bold\">129.0</span>\n",
       "</pre>\n"
      ],
      "text/plain": [
       "\u001b[1;36m129.0\u001b[0m\n"
      ]
     },
     "metadata": {},
     "output_type": "display_data"
    }
   ],
   "source": [
    "dataset_path = 'data/air_pollution_dataset.csv'\n",
    "\n",
    "# Wind direction mapping\n",
    "mapping = {'SE': 1, 'cv': 2, 'NW': 3, 'NE': 4}\n",
    "converter = lambda x: float(mapping[x])\n",
    "\n",
    "pollution_stream = stream.iter_csv(dataset_path, target='pollution', converters={'pollution': float, 'dew': float,\n",
    "                                                                                 'temp': float, 'press': float, \n",
    "                                                                                 'wnd_dir': converter, 'wnd_spd': float,\n",
    "                                                                                 'snow': float, 'rain': float})\n",
    "sample, target = next(pollution_stream)\n",
    "print(sample)\n",
    "print(target)"
   ]
  },
  {
   "cell_type": "code",
   "execution_count": 33,
   "metadata": {},
   "outputs": [
    {
     "data": {
      "text/html": [
       "<pre style=\"white-space:pre;overflow-x:auto;line-height:normal;font-family:Menlo,'DejaVu Sans Mono',consolas,'Courier New',monospace\">Transformed:\n",
       "<span style=\"font-weight: bold\">{</span>\n",
       "    <span style=\"color: #008000; text-decoration-color: #008000\">'dew'</span>: <span style=\"color: #008000; text-decoration-color: #008000\">'-15.00000'</span>,\n",
       "    <span style=\"color: #008000; text-decoration-color: #008000\">'temp'</span>: <span style=\"color: #008000; text-decoration-color: #008000\">'-4.00000'</span>,\n",
       "    <span style=\"color: #008000; text-decoration-color: #008000\">'press'</span>: <span style=\"color: #008000; text-decoration-color: #008000\">'1020.00000'</span>,\n",
       "    <span style=\"color: #008000; text-decoration-color: #008000\">'wnd_dir'</span>: <span style=\"color: #008000; text-decoration-color: #008000\">'1.00000'</span>,\n",
       "    <span style=\"color: #008000; text-decoration-color: #008000\">'wnd_spd'</span>: <span style=\"color: #008000; text-decoration-color: #008000\">'2.68000'</span>,\n",
       "    <span style=\"color: #008000; text-decoration-color: #008000\">'snow'</span>: <span style=\"color: #008000; text-decoration-color: #008000\">'0.00000'</span>,\n",
       "    <span style=\"color: #008000; text-decoration-color: #008000\">'rain'</span>: <span style=\"color: #008000; text-decoration-color: #008000\">'0.00000'</span>\n",
       "<span style=\"font-weight: bold\">}</span>\n",
       "</pre>\n"
      ],
      "text/plain": [
       "Transformed:\n",
       "\u001b[1m{\u001b[0m\n",
       "    \u001b[32m'dew'\u001b[0m: \u001b[32m'-15.00000'\u001b[0m,\n",
       "    \u001b[32m'temp'\u001b[0m: \u001b[32m'-4.00000'\u001b[0m,\n",
       "    \u001b[32m'press'\u001b[0m: \u001b[32m'1020.00000'\u001b[0m,\n",
       "    \u001b[32m'wnd_dir'\u001b[0m: \u001b[32m'1.00000'\u001b[0m,\n",
       "    \u001b[32m'wnd_spd'\u001b[0m: \u001b[32m'2.68000'\u001b[0m,\n",
       "    \u001b[32m'snow'\u001b[0m: \u001b[32m'0.00000'\u001b[0m,\n",
       "    \u001b[32m'rain'\u001b[0m: \u001b[32m'0.00000'\u001b[0m\n",
       "\u001b[1m}\u001b[0m\n"
      ]
     },
     "metadata": {},
     "output_type": "display_data"
    },
    {
     "data": {
      "text/html": [
       "<pre style=\"white-space:pre;overflow-x:auto;line-height:normal;font-family:Menlo,'DejaVu Sans Mono',consolas,'Courier New',monospace\">Predicted:  <span style=\"color: #008080; text-decoration-color: #008080; font-weight: bold\">148.0</span>\n",
       "</pre>\n"
      ],
      "text/plain": [
       "Predicted:  \u001b[1;36m148.0\u001b[0m\n"
      ]
     },
     "metadata": {},
     "output_type": "display_data"
    },
    {
     "data": {
      "text/html": [
       "<pre style=\"white-space:pre;overflow-x:auto;line-height:normal;font-family:Menlo,'DejaVu Sans Mono',consolas,'Courier New',monospace\"><span style=\"color: #00ff00; text-decoration-color: #00ff00; font-style: italic\">True</span> Label:  <span style=\"color: #008080; text-decoration-color: #008080; font-weight: bold\">148.0</span>\n",
       "</pre>\n"
      ],
      "text/plain": [
       "\u001b[3;92mTrue\u001b[0m Label:  \u001b[1;36m148.0\u001b[0m\n"
      ]
     },
     "metadata": {},
     "output_type": "display_data"
    },
    {
     "name": "stdout",
     "output_type": "stream",
     "text": [
      "[1,000] MAE: 35.722067\n",
      "[2,000] MAE: 37.475633\n",
      "[3,000] MAE: 38.687422\n",
      "[4,000] MAE: 39.676217\n",
      "[5,000] MAE: 39.863693\n",
      "[6,000] MAE: 39.646644\n",
      "[7,000] MAE: 41.483667\n",
      "[8,000] MAE: 42.522958\n",
      "[9,000] MAE: 41.335496\n",
      "[10,000] MAE: 40.734227\n",
      "[11,000] MAE: 41.650442\n",
      "[12,000] MAE: 41.609956\n",
      "[13,000] MAE: 41.360651\n",
      "[14,000] MAE: 42.550048\n",
      "[15,000] MAE: 42.510618\n",
      "[16,000] MAE: 43.295392\n",
      "[17,000] MAE: 43.209745\n",
      "[18,000] MAE: 43.254615\n",
      "[19,000] MAE: 43.207309\n",
      "[20,000] MAE: 42.797523\n",
      "[21,000] MAE: 42.665832\n",
      "[22,000] MAE: 42.782185\n",
      "[23,000] MAE: 42.724951\n",
      "[24,000] MAE: 42.360786\n",
      "[25,000] MAE: 42.294131\n",
      "[26,000] MAE: 42.141633\n",
      "[27,000] MAE: 42.911477\n",
      "[28,000] MAE: 43.550638\n",
      "[29,000] MAE: 44.112057\n",
      "[30,000] MAE: 43.847549\n",
      "[31,000] MAE: 43.814189\n",
      "[32,000] MAE: 43.380058\n",
      "[33,000] MAE: 43.174844\n",
      "[34,000] MAE: 43.049873\n",
      "[35,000] MAE: 42.866242\n",
      "[36,000] MAE: 42.985952\n",
      "[37,000] MAE: 43.381948\n",
      "[38,000] MAE: 43.664812\n",
      "[39,000] MAE: 43.425479\n",
      "[40,000] MAE: 43.159242\n",
      "[41,000] MAE: 42.717797\n",
      "[42,000] MAE: 42.56633\n",
      "[43,000] MAE: 42.683848\n",
      "[43,798] MAE: 42.626236\n"
     ]
    },
    {
     "data": {
      "text/html": [
       "<pre style=\"white-space:pre;overflow-x:auto;line-height:normal;font-family:Menlo,'DejaVu Sans Mono',consolas,'Courier New',monospace\">MAE: <span style=\"color: #008080; text-decoration-color: #008080; font-weight: bold\">42.626236</span>\n",
       "</pre>\n"
      ],
      "text/plain": [
       "MAE: \u001b[1;36m42.626236\u001b[0m\n"
      ]
     },
     "metadata": {},
     "output_type": "display_data"
    },
    {
     "data": {
      "text/plain": [
       "'for x, y in pollution_stream:\\n    print(x)\\n    # Transform the sample using the pipeline\\n    transformed_x = model.transform_one(x)\\n    \\n    # Print the transformed sample along with its target label\\n    print(\"Original Sample:\", x)\\n    print(\"Transformed Sample:\", transformed_x)\\n    print(\"Target Label:\", y)\\n    \\n    # Break the loop after transforming a few samples'"
      ]
     },
     "execution_count": 33,
     "metadata": {},
     "output_type": "execute_result"
    }
   ],
   "source": [
    "# Discarding date column and scaling the data\n",
    "to_discard=['date']\n",
    "model = compose.Pipeline(compose.Discard(*to_discard), neighbors.KNNRegressor(n_neighbors=5))\n",
    "\n",
    "# Check the model's samples after preprocessing\n",
    "for x, y in pollution_stream:\n",
    "    model.learn_one(x, y)\n",
    "    transformed_x = model.transform_one(x)\n",
    "    print(\"Transformed:\", {key: \"{:.5f}\".format(value) for key, value in transformed_x.items()})\n",
    "    print(\"Predicted: \", model.predict_one(x))\n",
    "    print(\"True Label: \", y)\n",
    "    break\n",
    "\n",
    "print(evaluate.progressive_val_score(dataset=pollution_stream, model=model, metric=metrics.MAE(), print_every=1000))\n",
    "\n",
    "\n",
    "# Manually transform and inspect some samples\n",
    "'''for x, y in pollution_stream:\n",
    "    print(x)\n",
    "    # Transform the sample using the pipeline\n",
    "    transformed_x = model.transform_one(x)\n",
    "    \n",
    "    # Print the transformed sample along with its target label\n",
    "    print(\"Original Sample:\", x)\n",
    "    print(\"Transformed Sample:\", transformed_x)\n",
    "    print(\"Target Label:\", y)\n",
    "    \n",
    "    # Break the loop after transforming a few samples'''\n"
   ]
  }
 ],
 "metadata": {
  "kernelspec": {
   "display_name": "base",
   "language": "python",
   "name": "python3"
  },
  "language_info": {
   "codemirror_mode": {
    "name": "ipython",
    "version": 3
   },
   "file_extension": ".py",
   "mimetype": "text/x-python",
   "name": "python",
   "nbconvert_exporter": "python",
   "pygments_lexer": "ipython3",
   "version": "3.11.4"
  }
 },
 "nbformat": 4,
 "nbformat_minor": 2
}

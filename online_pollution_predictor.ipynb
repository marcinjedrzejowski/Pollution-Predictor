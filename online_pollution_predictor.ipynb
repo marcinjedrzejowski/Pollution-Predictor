{
 "cells": [
  {
   "cell_type": "markdown",
   "metadata": {},
   "source": [
    "# ML2 | Pollution Prediction Project\n",
    "**MAI 2023/24 USC | Online Learning Project**\n",
    "\n",
    "This Jupyter Notebook is part of the Online Learning Project for the Machine Learning 2 course at UPC School. The project is uses data from the [Data Repository](https://www.kaggle.com/datasets/rupakroy/lstm-datasets-multivariate-univariate). \n",
    "\n",
    "\n",
    "**Authors:**\n",
    "- Brian García Machado\n",
    "- Fernando Núnez Sánchez\n",
    "- Marcin Jedrzejowski \n",
    "- Santiago Suárez Carrera\n"
   ]
  },
  {
   "cell_type": "code",
   "execution_count": 1,
   "metadata": {},
   "outputs": [
    {
     "name": "stderr",
     "output_type": "stream",
     "text": [
      "/var/folders/xb/y9gnnnts6kj8yn590m6z605c0000gn/T/ipykernel_72201/1954182187.py:1: DeprecationWarning: \n",
      "Pyarrow will become a required dependency of pandas in the next major release of pandas (pandas 3.0),\n",
      "(to allow more performant data types, such as the Arrow string type, and better interoperability with other libraries)\n",
      "but was too old on your system - pyarrow 10.0.1 is the current minimum supported version as of this release.\n",
      "If this would cause problems for you,\n",
      "please provide us feedback at https://github.com/pandas-dev/pandas/issues/54466\n",
      "        \n",
      "  import pandas as pd\n"
     ]
    }
   ],
   "source": [
    "import pandas as pd\n",
    "from sklearn.preprocessing import OneHotEncoder, StandardScaler\n",
    "from sklearn.compose import ColumnTransformer\n",
    "from sklearn.pipeline import Pipeline\n",
    "import numpy as np\n",
    "import river as rv\n",
    "from rich import print\n",
    "import matplotlib.pyplot as plt"
   ]
  },
  {
   "cell_type": "markdown",
   "metadata": {},
   "source": [
    "## 1. Problem description (Max 1 point)\n",
    "\n",
    "### Informal Problem Description\n",
    "Predicting pollution levels (PM2.5) is crucial for public health and environmental policy-making. This project aims to forecast pollution levels 24 hours ahead using weather forecasts and current pollution data.\n",
    "\n",
    "### ML Problem Characteristics\n",
    "- **What is the problem?** Time series forecasting of pollution levels 24 hours ahead.\n",
    "- **Type of problem:** Regression.\n",
    "- **Potential for concept drift:** Consider how seasonal changes, urban development, or policy changes may affect pollution levels over time.\n",
    "- **Evaluation metrics:** Use R2, RMSE and MAE (or just one or two?) for model performance evaluation due to the regression nature of the problem."
   ]
  },
  {
   "cell_type": "markdown",
   "metadata": {},
   "source": [
    "## 2. Dataset Selection (Max. 1 point)\n",
    "- **Justification for Dataset Suitability:** The selected dataset is ideal for stream learning due to its temporal component and relevance to pollution level predictions.\n",
    "- **Dataset Source:** Confirm the source of the dataset and its suitability for stream processing.\n",
    "- **Dataset Preparation:** Describe any preprocessing to make the dataset stream-friendly or simulate real-time streaming.\n",
    "\n",
    "### Dataset Overview\n",
    "\n",
    "For this project, we have chosen a comprehensive dataset on air pollution, specifically focusing on PM2.5 particle measurements. The dataset comprises several weather-related features alongside the pollution readings, recorded hourly. Our primary goal is to predict future pollution levels (24 hours ahead) based on current weather conditions and pollution data. This predictive model could serve as a tool for early warning systems to mitigate the adverse effects of air pollution on health and the environment.\n",
    "\n",
    "### Dataset Characteristics\n",
    "\n",
    "The dataset includes the following features:\n",
    "\n",
    "- `date`: Timestamp of the observation (hourly data)\n",
    "- `pollution`: PM2.5 concentration\n",
    "- `dew`: Dew point\n",
    "- `temp`: Temperature\n",
    "- `press`: Pressure\n",
    "- `wnd_dir`: Wind direction\n",
    "- `wnd_spd`: Wind speed\n",
    "- `snow`: Snowfall\n",
    "- `rain`: Rainfall\n",
    "\n",
    "#### Initial Data Analysis\n"
   ]
  },
  {
   "cell_type": "code",
   "execution_count": 2,
   "metadata": {},
   "outputs": [
    {
     "data": {
      "text/html": [
       "<div>\n",
       "<style scoped>\n",
       "    .dataframe tbody tr th:only-of-type {\n",
       "        vertical-align: middle;\n",
       "    }\n",
       "\n",
       "    .dataframe tbody tr th {\n",
       "        vertical-align: top;\n",
       "    }\n",
       "\n",
       "    .dataframe thead th {\n",
       "        text-align: right;\n",
       "    }\n",
       "</style>\n",
       "<table border=\"1\" class=\"dataframe\">\n",
       "  <thead>\n",
       "    <tr style=\"text-align: right;\">\n",
       "      <th></th>\n",
       "      <th>date</th>\n",
       "      <th>pollution</th>\n",
       "      <th>dew</th>\n",
       "      <th>temp</th>\n",
       "      <th>press</th>\n",
       "      <th>wnd_dir</th>\n",
       "      <th>wnd_spd</th>\n",
       "      <th>snow</th>\n",
       "      <th>rain</th>\n",
       "    </tr>\n",
       "  </thead>\n",
       "  <tbody>\n",
       "    <tr>\n",
       "      <th>0</th>\n",
       "      <td>2010-01-02 00:00:00</td>\n",
       "      <td>129.0</td>\n",
       "      <td>-16</td>\n",
       "      <td>-4.0</td>\n",
       "      <td>1020.0</td>\n",
       "      <td>SE</td>\n",
       "      <td>1.79</td>\n",
       "      <td>0</td>\n",
       "      <td>0</td>\n",
       "    </tr>\n",
       "    <tr>\n",
       "      <th>1</th>\n",
       "      <td>2010-01-02 01:00:00</td>\n",
       "      <td>148.0</td>\n",
       "      <td>-15</td>\n",
       "      <td>-4.0</td>\n",
       "      <td>1020.0</td>\n",
       "      <td>SE</td>\n",
       "      <td>2.68</td>\n",
       "      <td>0</td>\n",
       "      <td>0</td>\n",
       "    </tr>\n",
       "    <tr>\n",
       "      <th>2</th>\n",
       "      <td>2010-01-02 02:00:00</td>\n",
       "      <td>159.0</td>\n",
       "      <td>-11</td>\n",
       "      <td>-5.0</td>\n",
       "      <td>1021.0</td>\n",
       "      <td>SE</td>\n",
       "      <td>3.57</td>\n",
       "      <td>0</td>\n",
       "      <td>0</td>\n",
       "    </tr>\n",
       "    <tr>\n",
       "      <th>3</th>\n",
       "      <td>2010-01-02 03:00:00</td>\n",
       "      <td>181.0</td>\n",
       "      <td>-7</td>\n",
       "      <td>-5.0</td>\n",
       "      <td>1022.0</td>\n",
       "      <td>SE</td>\n",
       "      <td>5.36</td>\n",
       "      <td>1</td>\n",
       "      <td>0</td>\n",
       "    </tr>\n",
       "    <tr>\n",
       "      <th>4</th>\n",
       "      <td>2010-01-02 04:00:00</td>\n",
       "      <td>138.0</td>\n",
       "      <td>-7</td>\n",
       "      <td>-5.0</td>\n",
       "      <td>1022.0</td>\n",
       "      <td>SE</td>\n",
       "      <td>6.25</td>\n",
       "      <td>2</td>\n",
       "      <td>0</td>\n",
       "    </tr>\n",
       "  </tbody>\n",
       "</table>\n",
       "</div>"
      ],
      "text/plain": [
       "                  date  pollution  dew  temp   press wnd_dir  wnd_spd  snow  \\\n",
       "0  2010-01-02 00:00:00      129.0  -16  -4.0  1020.0      SE     1.79     0   \n",
       "1  2010-01-02 01:00:00      148.0  -15  -4.0  1020.0      SE     2.68     0   \n",
       "2  2010-01-02 02:00:00      159.0  -11  -5.0  1021.0      SE     3.57     0   \n",
       "3  2010-01-02 03:00:00      181.0   -7  -5.0  1022.0      SE     5.36     1   \n",
       "4  2010-01-02 04:00:00      138.0   -7  -5.0  1022.0      SE     6.25     2   \n",
       "\n",
       "   rain  \n",
       "0     0  \n",
       "1     0  \n",
       "2     0  \n",
       "3     0  \n",
       "4     0  "
      ]
     },
     "execution_count": 2,
     "metadata": {},
     "output_type": "execute_result"
    }
   ],
   "source": [
    "# Loading the dataset\n",
    "dataset = pd.read_csv('data/air_pollution_dataset.csv')\n",
    "\n",
    "# Display the first few rows of the dataset\n",
    "dataset.head()"
   ]
  },
  {
   "cell_type": "code",
   "execution_count": 3,
   "metadata": {},
   "outputs": [
    {
     "data": {
      "text/plain": [
       "394200"
      ]
     },
     "execution_count": 3,
     "metadata": {},
     "output_type": "execute_result"
    }
   ],
   "source": [
    "dataset.size"
   ]
  },
  {
   "cell_type": "code",
   "execution_count": 4,
   "metadata": {},
   "outputs": [
    {
     "data": {
      "text/plain": [
       "date         0\n",
       "pollution    0\n",
       "dew          0\n",
       "temp         0\n",
       "press        0\n",
       "wnd_dir      0\n",
       "wnd_spd      0\n",
       "snow         0\n",
       "rain         0\n",
       "dtype: int64"
      ]
     },
     "execution_count": 4,
     "metadata": {},
     "output_type": "execute_result"
    }
   ],
   "source": [
    "# Checking for null values\n",
    "dataset.isnull().sum()"
   ]
  },
  {
   "cell_type": "code",
   "execution_count": 5,
   "metadata": {},
   "outputs": [
    {
     "data": {
      "text/html": [
       "<div>\n",
       "<style scoped>\n",
       "    .dataframe tbody tr th:only-of-type {\n",
       "        vertical-align: middle;\n",
       "    }\n",
       "\n",
       "    .dataframe tbody tr th {\n",
       "        vertical-align: top;\n",
       "    }\n",
       "\n",
       "    .dataframe thead th {\n",
       "        text-align: right;\n",
       "    }\n",
       "</style>\n",
       "<table border=\"1\" class=\"dataframe\">\n",
       "  <thead>\n",
       "    <tr style=\"text-align: right;\">\n",
       "      <th></th>\n",
       "      <th>pollution</th>\n",
       "      <th>dew</th>\n",
       "      <th>temp</th>\n",
       "      <th>press</th>\n",
       "      <th>wnd_spd</th>\n",
       "      <th>snow</th>\n",
       "      <th>rain</th>\n",
       "    </tr>\n",
       "  </thead>\n",
       "  <tbody>\n",
       "    <tr>\n",
       "      <th>count</th>\n",
       "      <td>43800.000000</td>\n",
       "      <td>43800.000000</td>\n",
       "      <td>43800.000000</td>\n",
       "      <td>43800.000000</td>\n",
       "      <td>43800.000000</td>\n",
       "      <td>43800.000000</td>\n",
       "      <td>43800.000000</td>\n",
       "    </tr>\n",
       "    <tr>\n",
       "      <th>mean</th>\n",
       "      <td>94.013516</td>\n",
       "      <td>1.828516</td>\n",
       "      <td>12.459041</td>\n",
       "      <td>1016.447306</td>\n",
       "      <td>23.894307</td>\n",
       "      <td>0.052763</td>\n",
       "      <td>0.195023</td>\n",
       "    </tr>\n",
       "    <tr>\n",
       "      <th>std</th>\n",
       "      <td>92.252276</td>\n",
       "      <td>14.429326</td>\n",
       "      <td>12.193384</td>\n",
       "      <td>10.271411</td>\n",
       "      <td>50.022729</td>\n",
       "      <td>0.760582</td>\n",
       "      <td>1.416247</td>\n",
       "    </tr>\n",
       "    <tr>\n",
       "      <th>min</th>\n",
       "      <td>0.000000</td>\n",
       "      <td>-40.000000</td>\n",
       "      <td>-19.000000</td>\n",
       "      <td>991.000000</td>\n",
       "      <td>0.450000</td>\n",
       "      <td>0.000000</td>\n",
       "      <td>0.000000</td>\n",
       "    </tr>\n",
       "    <tr>\n",
       "      <th>25%</th>\n",
       "      <td>24.000000</td>\n",
       "      <td>-10.000000</td>\n",
       "      <td>2.000000</td>\n",
       "      <td>1008.000000</td>\n",
       "      <td>1.790000</td>\n",
       "      <td>0.000000</td>\n",
       "      <td>0.000000</td>\n",
       "    </tr>\n",
       "    <tr>\n",
       "      <th>50%</th>\n",
       "      <td>68.000000</td>\n",
       "      <td>2.000000</td>\n",
       "      <td>14.000000</td>\n",
       "      <td>1016.000000</td>\n",
       "      <td>5.370000</td>\n",
       "      <td>0.000000</td>\n",
       "      <td>0.000000</td>\n",
       "    </tr>\n",
       "    <tr>\n",
       "      <th>75%</th>\n",
       "      <td>132.250000</td>\n",
       "      <td>15.000000</td>\n",
       "      <td>23.000000</td>\n",
       "      <td>1025.000000</td>\n",
       "      <td>21.910000</td>\n",
       "      <td>0.000000</td>\n",
       "      <td>0.000000</td>\n",
       "    </tr>\n",
       "    <tr>\n",
       "      <th>max</th>\n",
       "      <td>994.000000</td>\n",
       "      <td>28.000000</td>\n",
       "      <td>42.000000</td>\n",
       "      <td>1046.000000</td>\n",
       "      <td>585.600000</td>\n",
       "      <td>27.000000</td>\n",
       "      <td>36.000000</td>\n",
       "    </tr>\n",
       "  </tbody>\n",
       "</table>\n",
       "</div>"
      ],
      "text/plain": [
       "          pollution           dew          temp         press       wnd_spd  \\\n",
       "count  43800.000000  43800.000000  43800.000000  43800.000000  43800.000000   \n",
       "mean      94.013516      1.828516     12.459041   1016.447306     23.894307   \n",
       "std       92.252276     14.429326     12.193384     10.271411     50.022729   \n",
       "min        0.000000    -40.000000    -19.000000    991.000000      0.450000   \n",
       "25%       24.000000    -10.000000      2.000000   1008.000000      1.790000   \n",
       "50%       68.000000      2.000000     14.000000   1016.000000      5.370000   \n",
       "75%      132.250000     15.000000     23.000000   1025.000000     21.910000   \n",
       "max      994.000000     28.000000     42.000000   1046.000000    585.600000   \n",
       "\n",
       "               snow          rain  \n",
       "count  43800.000000  43800.000000  \n",
       "mean       0.052763      0.195023  \n",
       "std        0.760582      1.416247  \n",
       "min        0.000000      0.000000  \n",
       "25%        0.000000      0.000000  \n",
       "50%        0.000000      0.000000  \n",
       "75%        0.000000      0.000000  \n",
       "max       27.000000     36.000000  "
      ]
     },
     "execution_count": 5,
     "metadata": {},
     "output_type": "execute_result"
    }
   ],
   "source": [
    "# Statistical summary of the dataset\n",
    "dataset.describe()"
   ]
  },
  {
   "cell_type": "code",
   "execution_count": 6,
   "metadata": {},
   "outputs": [
    {
     "data": {
      "text/html": [
       "<pre style=\"white-space:pre;overflow-x:auto;line-height:normal;font-family:Menlo,'DejaVu Sans Mono',consolas,'Courier New',monospace\"><span style=\"font-weight: bold\">[</span><span style=\"color: #008000; text-decoration-color: #008000\">'SE'</span> <span style=\"color: #008000; text-decoration-color: #008000\">'cv'</span> <span style=\"color: #008000; text-decoration-color: #008000\">'NW'</span> <span style=\"color: #008000; text-decoration-color: #008000\">'NE'</span><span style=\"font-weight: bold\">]</span>\n",
       "</pre>\n"
      ],
      "text/plain": [
       "\u001b[1m[\u001b[0m\u001b[32m'SE'\u001b[0m \u001b[32m'cv'\u001b[0m \u001b[32m'NW'\u001b[0m \u001b[32m'NE'\u001b[0m\u001b[1m]\u001b[0m\n"
      ]
     },
     "metadata": {},
     "output_type": "display_data"
    }
   ],
   "source": [
    "# Unique values in 'wnd_dir' column\n",
    "print(dataset['wnd_dir'].unique())\n"
   ]
  },
  {
   "cell_type": "code",
   "execution_count": 7,
   "metadata": {},
   "outputs": [
    {
     "data": {
      "image/png": "[encoded data removed]",
      "text/plain": [
       "<Figure size 2000x1500 with 9 Axes>"
      ]
     },
     "metadata": {},
     "output_type": "display_data"
    }
   ],
   "source": [
    "# Data distribution\n",
    "dataset.hist(bins=50, figsize=(20,15))\n",
    "plt.show()"
   ]
  },
  {
   "cell_type": "code",
   "execution_count": 8,
   "metadata": {},
   "outputs": [
    {
     "data": {
      "image/png": "[encoded data removed]",
      "text/plain": [
       "<Figure size 640x480 with 1 Axes>"
      ]
     },
     "metadata": {},
     "output_type": "display_data"
    }
   ],
   "source": [
    "import matplotlib.pyplot as plt\n",
    "\n",
    "df = pd.read_csv('data/air_pollution_dataset.csv')\n",
    "\n",
    "# Asegúrate de que la columna 'date' esté en formato datetime\n",
    "df['date'] = pd.to_datetime(df['date'])\n",
    "\n",
    "# Establece la columna 'date' como índice\n",
    "df.set_index('date', inplace=True)\n",
    "\n",
    "# Crea una nueva columna 'month-day' que contiene solo el mes y el día de cada fecha\n",
    "df['month-day'] = df.index.strftime('%m-%d')\n",
    "\n",
    "# Crea una nueva columna 'year' que contiene solo el año de cada fecha\n",
    "df['year'] = df.index.year\n",
    "\n",
    "# Agrupa por 'year' y 'month-day' y calcula la media de la contaminación para cada grupo\n",
    "df_grouped = df.groupby(['year', 'month-day'])['pollution'].mean().reset_index()\n",
    "\n",
    "# Crea un gráfico para cada año\n",
    "for year in df_grouped['year'].unique():\n",
    "    df_year = df_grouped[df_grouped['year'] == year]\n",
    "    plt.plot(df_year['month-day'], df_year['pollution'], label=year, alpha=0.5)\n",
    "\n",
    "plt.legend()\n",
    "plt.show()"
   ]
  },
  {
   "cell_type": "code",
   "execution_count": 17,
   "metadata": {},
   "outputs": [
    {
     "data": {
      "text/plain": [
       "<matplotlib.legend.Legend at 0x14b1f0b20>"
      ]
     },
     "execution_count": 17,
     "metadata": {},
     "output_type": "execute_result"
    },
    {
     "data": {
      "image/png": "[encoded data removed]",
      "text/plain": [
       "<Figure size 1500x500 with 1 Axes>"
      ]
     },
     "metadata": {},
     "output_type": "display_data"
    }
   ],
   "source": [
    "# Plotting the pollution data and its 1 week rolling mean\n",
    "dataset.plot(x='date', y='pollution', linewidth=1, alpha=0.5, figsize=(15, 5))\n",
    "dataset['pollution'].rolling(window=168).mean().plot(figsize=(15, 5), label='1 week rolling mean')\n",
    "plt.legend()"
   ]
  },
  {
   "cell_type": "markdown",
   "metadata": {},
   "source": [
    "## 3. Data Preparation (Max. 1 point)\n",
    "- **Data Type Conversions:** Convert categorical variables and cast numerical variables as needed for River processing.\n",
    "- **Normalization/Standardization:** Discuss normalizing or standardizing features to improve model performance.\n",
    "- **Feature Engineering:** Create new features and select relevant ones to enhance predictions.\n",
    "- **Categorization:** Explain categorization of continuous variables, if applicable.\n",
    "\n",
    "\n",
    "### Feature Engineering\n",
    "\n",
    "To align with our objective, we will perform the following data preparation steps:\n",
    "\n",
    "1. **Shift the `pollution` column by 24 hours** to create the `current_pollution` variable.\n",
    "2. **Extract `day of the week` and `month` from the `date` column** to capture temporal patterns in pollution levels.\n",
    "3. **Forecast Weather Features**: For the purpose of this project, we will treat the weather features as if they were forecasts for the next 24 hours, at thte time of the pollution to be prediction. This simplification assumes the availability of accurate weather forecasts.\n",
    "4. **Encode the `wnd_dir` categorical variable** using one-hot encoding to convert it into a format suitable for our machine learning models.\n",
    "5. **Normalize or standardize the numerical features** as required to ensure consistent scale across all input features.\n",
    "\n",
    "These preparation steps will transform the raw dataset into a structured format that our machine learning models can efficiently process to predict future pollution levels."
   ]
  },
  {
   "cell_type": "code",
   "execution_count": 23,
   "metadata": {},
   "outputs": [],
   "source": [
    "# Loading the dataset\n",
    "dataset = pd.read_csv('data/air_pollution_dataset.csv')"
   ]
  },
  {
   "cell_type": "code",
   "execution_count": 24,
   "metadata": {},
   "outputs": [],
   "source": [
    "# Step 1: Create target variable by shifting pollution\n",
    "hours_shifted = 24\n",
    "dataset['current_pollution'] = dataset['pollution'].shift(hours_shifted)\n",
    "\n",
    "# Rename the pollution column to pred_pollution\n",
    "dataset = dataset.rename(columns={'pollution': 'pred_pollution'})\n",
    "\n",
    "# Drop the last 24 rows where pollution_24 is NaN due to shifting\n",
    "dataset = dataset.iloc[hours_shifted:]\n",
    "dataset = dataset.reset_index(drop=True)"
   ]
  },
  {
   "cell_type": "code",
   "execution_count": 25,
   "metadata": {},
   "outputs": [
    {
     "data": {
      "text/html": [
       "<div>\n",
       "<style scoped>\n",
       "    .dataframe tbody tr th:only-of-type {\n",
       "        vertical-align: middle;\n",
       "    }\n",
       "\n",
       "    .dataframe tbody tr th {\n",
       "        vertical-align: top;\n",
       "    }\n",
       "\n",
       "    .dataframe thead th {\n",
       "        text-align: right;\n",
       "    }\n",
       "</style>\n",
       "<table border=\"1\" class=\"dataframe\">\n",
       "  <thead>\n",
       "    <tr style=\"text-align: right;\">\n",
       "      <th></th>\n",
       "      <th>date</th>\n",
       "      <th>pred_pollution</th>\n",
       "      <th>dew</th>\n",
       "      <th>temp</th>\n",
       "      <th>press</th>\n",
       "      <th>wnd_dir</th>\n",
       "      <th>wnd_spd</th>\n",
       "      <th>snow</th>\n",
       "      <th>rain</th>\n",
       "      <th>current_pollution</th>\n",
       "    </tr>\n",
       "  </thead>\n",
       "  <tbody>\n",
       "    <tr>\n",
       "      <th>0</th>\n",
       "      <td>2010-01-03 00:00:00</td>\n",
       "      <td>90.0</td>\n",
       "      <td>-7</td>\n",
       "      <td>-6.0</td>\n",
       "      <td>1027.0</td>\n",
       "      <td>SE</td>\n",
       "      <td>58.56</td>\n",
       "      <td>4</td>\n",
       "      <td>0</td>\n",
       "      <td>129.0</td>\n",
       "    </tr>\n",
       "    <tr>\n",
       "      <th>1</th>\n",
       "      <td>2010-01-03 01:00:00</td>\n",
       "      <td>63.0</td>\n",
       "      <td>-8</td>\n",
       "      <td>-6.0</td>\n",
       "      <td>1026.0</td>\n",
       "      <td>SE</td>\n",
       "      <td>61.69</td>\n",
       "      <td>5</td>\n",
       "      <td>0</td>\n",
       "      <td>148.0</td>\n",
       "    </tr>\n",
       "    <tr>\n",
       "      <th>2</th>\n",
       "      <td>2010-01-03 02:00:00</td>\n",
       "      <td>65.0</td>\n",
       "      <td>-8</td>\n",
       "      <td>-7.0</td>\n",
       "      <td>1026.0</td>\n",
       "      <td>SE</td>\n",
       "      <td>65.71</td>\n",
       "      <td>6</td>\n",
       "      <td>0</td>\n",
       "      <td>159.0</td>\n",
       "    </tr>\n",
       "    <tr>\n",
       "      <th>3</th>\n",
       "      <td>2010-01-03 03:00:00</td>\n",
       "      <td>55.0</td>\n",
       "      <td>-8</td>\n",
       "      <td>-7.0</td>\n",
       "      <td>1025.0</td>\n",
       "      <td>SE</td>\n",
       "      <td>68.84</td>\n",
       "      <td>7</td>\n",
       "      <td>0</td>\n",
       "      <td>181.0</td>\n",
       "    </tr>\n",
       "    <tr>\n",
       "      <th>4</th>\n",
       "      <td>2010-01-03 04:00:00</td>\n",
       "      <td>65.0</td>\n",
       "      <td>-8</td>\n",
       "      <td>-7.0</td>\n",
       "      <td>1024.0</td>\n",
       "      <td>SE</td>\n",
       "      <td>72.86</td>\n",
       "      <td>8</td>\n",
       "      <td>0</td>\n",
       "      <td>138.0</td>\n",
       "    </tr>\n",
       "  </tbody>\n",
       "</table>\n",
       "</div>"
      ],
      "text/plain": [
       "                  date  pred_pollution  dew  temp   press wnd_dir  wnd_spd  \\\n",
       "0  2010-01-03 00:00:00            90.0   -7  -6.0  1027.0      SE    58.56   \n",
       "1  2010-01-03 01:00:00            63.0   -8  -6.0  1026.0      SE    61.69   \n",
       "2  2010-01-03 02:00:00            65.0   -8  -7.0  1026.0      SE    65.71   \n",
       "3  2010-01-03 03:00:00            55.0   -8  -7.0  1025.0      SE    68.84   \n",
       "4  2010-01-03 04:00:00            65.0   -8  -7.0  1024.0      SE    72.86   \n",
       "\n",
       "   snow  rain  current_pollution  \n",
       "0     4     0              129.0  \n",
       "1     5     0              148.0  \n",
       "2     6     0              159.0  \n",
       "3     7     0              181.0  \n",
       "4     8     0              138.0  "
      ]
     },
     "execution_count": 25,
     "metadata": {},
     "output_type": "execute_result"
    }
   ],
   "source": [
    "dataset.head()"
   ]
  },
  {
   "cell_type": "code",
   "execution_count": 26,
   "metadata": {},
   "outputs": [],
   "source": [
    "dataset.to_csv('data/air_pollution_dataset_modified.csv', index=False)"
   ]
  },
  {
   "cell_type": "code",
   "execution_count": 28,
   "metadata": {},
   "outputs": [],
   "source": [
    "# Step 2: Extract day of the week and month from the date column\n",
    "dataset['date'] = pd.to_datetime(dataset['date'])\n",
    "dataset['day_of_week'] = dataset['date'].dt.dayofweek\n",
    "dataset['month'] = dataset['date'].dt.month # <------------------------------------- PROBS REMOVE?\n",
    "dataset['hour'] = dataset['date'].dt.hour"
   ]
  },
  {
   "cell_type": "code",
   "execution_count": 29,
   "metadata": {},
   "outputs": [],
   "source": [
    "# Step 3: Perform one-hot encoding on the 'wnd_dir' column\n",
    "dataset = pd.get_dummies(dataset, columns=['wnd_dir'])"
   ]
  },
  {
   "cell_type": "code",
   "execution_count": 31,
   "metadata": {},
   "outputs": [
    {
     "data": {
      "text/html": [
       "<div>\n",
       "<style scoped>\n",
       "    .dataframe tbody tr th:only-of-type {\n",
       "        vertical-align: middle;\n",
       "    }\n",
       "\n",
       "    .dataframe tbody tr th {\n",
       "        vertical-align: top;\n",
       "    }\n",
       "\n",
       "    .dataframe thead th {\n",
       "        text-align: right;\n",
       "    }\n",
       "</style>\n",
       "<table border=\"1\" class=\"dataframe\">\n",
       "  <thead>\n",
       "    <tr style=\"text-align: right;\">\n",
       "      <th></th>\n",
       "      <th>date</th>\n",
       "      <th>day_of_week</th>\n",
       "      <th>month</th>\n",
       "      <th>current_pollution</th>\n",
       "      <th>dew</th>\n",
       "      <th>temp</th>\n",
       "      <th>press</th>\n",
       "      <th>wnd_spd</th>\n",
       "      <th>wnd_dir_NE</th>\n",
       "      <th>wnd_dir_NW</th>\n",
       "      <th>wnd_dir_SE</th>\n",
       "      <th>wnd_dir_cv</th>\n",
       "      <th>snow</th>\n",
       "      <th>rain</th>\n",
       "      <th>pred_pollution</th>\n",
       "    </tr>\n",
       "  </thead>\n",
       "  <tbody>\n",
       "    <tr>\n",
       "      <th>0</th>\n",
       "      <td>2010-01-03 00:00:00</td>\n",
       "      <td>6</td>\n",
       "      <td>1</td>\n",
       "      <td>129.0</td>\n",
       "      <td>-7</td>\n",
       "      <td>-6.0</td>\n",
       "      <td>1027.0</td>\n",
       "      <td>58.56</td>\n",
       "      <td>False</td>\n",
       "      <td>False</td>\n",
       "      <td>True</td>\n",
       "      <td>False</td>\n",
       "      <td>4</td>\n",
       "      <td>0</td>\n",
       "      <td>90.0</td>\n",
       "    </tr>\n",
       "    <tr>\n",
       "      <th>1</th>\n",
       "      <td>2010-01-03 01:00:00</td>\n",
       "      <td>6</td>\n",
       "      <td>1</td>\n",
       "      <td>148.0</td>\n",
       "      <td>-8</td>\n",
       "      <td>-6.0</td>\n",
       "      <td>1026.0</td>\n",
       "      <td>61.69</td>\n",
       "      <td>False</td>\n",
       "      <td>False</td>\n",
       "      <td>True</td>\n",
       "      <td>False</td>\n",
       "      <td>5</td>\n",
       "      <td>0</td>\n",
       "      <td>63.0</td>\n",
       "    </tr>\n",
       "    <tr>\n",
       "      <th>2</th>\n",
       "      <td>2010-01-03 02:00:00</td>\n",
       "      <td>6</td>\n",
       "      <td>1</td>\n",
       "      <td>159.0</td>\n",
       "      <td>-8</td>\n",
       "      <td>-7.0</td>\n",
       "      <td>1026.0</td>\n",
       "      <td>65.71</td>\n",
       "      <td>False</td>\n",
       "      <td>False</td>\n",
       "      <td>True</td>\n",
       "      <td>False</td>\n",
       "      <td>6</td>\n",
       "      <td>0</td>\n",
       "      <td>65.0</td>\n",
       "    </tr>\n",
       "    <tr>\n",
       "      <th>3</th>\n",
       "      <td>2010-01-03 03:00:00</td>\n",
       "      <td>6</td>\n",
       "      <td>1</td>\n",
       "      <td>181.0</td>\n",
       "      <td>-8</td>\n",
       "      <td>-7.0</td>\n",
       "      <td>1025.0</td>\n",
       "      <td>68.84</td>\n",
       "      <td>False</td>\n",
       "      <td>False</td>\n",
       "      <td>True</td>\n",
       "      <td>False</td>\n",
       "      <td>7</td>\n",
       "      <td>0</td>\n",
       "      <td>55.0</td>\n",
       "    </tr>\n",
       "    <tr>\n",
       "      <th>4</th>\n",
       "      <td>2010-01-03 04:00:00</td>\n",
       "      <td>6</td>\n",
       "      <td>1</td>\n",
       "      <td>138.0</td>\n",
       "      <td>-8</td>\n",
       "      <td>-7.0</td>\n",
       "      <td>1024.0</td>\n",
       "      <td>72.86</td>\n",
       "      <td>False</td>\n",
       "      <td>False</td>\n",
       "      <td>True</td>\n",
       "      <td>False</td>\n",
       "      <td>8</td>\n",
       "      <td>0</td>\n",
       "      <td>65.0</td>\n",
       "    </tr>\n",
       "  </tbody>\n",
       "</table>\n",
       "</div>"
      ],
      "text/plain": [
       "                 date  day_of_week  month  current_pollution  dew  temp  \\\n",
       "0 2010-01-03 00:00:00            6      1              129.0   -7  -6.0   \n",
       "1 2010-01-03 01:00:00            6      1              148.0   -8  -6.0   \n",
       "2 2010-01-03 02:00:00            6      1              159.0   -8  -7.0   \n",
       "3 2010-01-03 03:00:00            6      1              181.0   -8  -7.0   \n",
       "4 2010-01-03 04:00:00            6      1              138.0   -8  -7.0   \n",
       "\n",
       "    press  wnd_spd  wnd_dir_NE  wnd_dir_NW  wnd_dir_SE  wnd_dir_cv  snow  \\\n",
       "0  1027.0    58.56       False       False        True       False     4   \n",
       "1  1026.0    61.69       False       False        True       False     5   \n",
       "2  1026.0    65.71       False       False        True       False     6   \n",
       "3  1025.0    68.84       False       False        True       False     7   \n",
       "4  1024.0    72.86       False       False        True       False     8   \n",
       "\n",
       "   rain  pred_pollution  \n",
       "0     0            90.0  \n",
       "1     0            63.0  \n",
       "2     0            65.0  \n",
       "3     0            55.0  \n",
       "4     0            65.0  "
      ]
     },
     "execution_count": 31,
     "metadata": {},
     "output_type": "execute_result"
    }
   ],
   "source": [
    "# Rename pollution as pred_pollution for clarity\n",
    "dataset.rename(columns={'pollution': 'pred_pollution'}, inplace=True)\n",
    "\n",
    "# Rearrange the columns\n",
    "dataset = dataset[['date', 'day_of_week', 'month', 'current_pollution', 'dew', 'temp', 'press', 'wnd_spd', 'wnd_dir_NE', 'wnd_dir_NW', 'wnd_dir_SE', 'wnd_dir_cv', 'snow', 'rain', 'pred_pollution']]\n",
    "\n",
    "dataset.head()"
   ]
  },
  {
   "cell_type": "markdown",
   "metadata": {},
   "source": [
    "## 4. Concept Drifts (Max. 1 point)\n",
    "- **Implemented Detectors:** Use at least two concept drift detectors from River to monitor drifts in pollution levels.\n",
    "\n",
    "In the realm of stream learning, concept drift is a critical aspect to monitor and manage. Concept drift occurs when the statistical properties of the target variable, which the model is trying to predict, change over time. This can significantly impact the performance of machine learning models, making it crucial to detect and adapt to these changes promptly.\n",
    "\n",
    "### Implemented Detectors\n",
    "\n",
    "For this project, we will implement two concept drift detectors from the River library to monitor potential drifts in pollution levels:\n",
    "\n",
    "1. **ADWIN (Adaptive Windowing):** ADWIN is a change detector that automatically adjusts the size of the window by cutting the window at different points depending on the data's variance. This method helps in detecting changes in the average of a stream without needing to define a window size a priori.\n",
    "\n",
    "2. **Page-Hinkley:** The Page-Hinkley test is a sequential analysis technique used to detect changes in the average of a Gaussian signal. It is particularly useful for detecting abrupt changes in streams.\n",
    "\n",
    "### Monitoring Concept Drift\n",
    "\n",
    "By implementing these detectors, we aim to monitor the stream of pollution data for any significant changes that could indicate concept drift. Detecting such drifts allows us to update or retrain our models to maintain high accuracy and relevance despite the changing dynamics of air pollution.\n",
    "\n",
    "#### ADWIN Implementation\n",
    "\n",
    "<div style=\"background-color:#f5f5f5; padding:15px; border-radius:5px; width:94%;\">\n",
    "\n",
    "```python\n",
    "from river import drift\n",
    "from river import stream\n",
    "\n",
    "adwin_detector = drift.ADWIN()\n",
    "for i, (x, y) in enumerate(stream.iter_sklearn_dataset(dataset)):\n",
    "    prediction = model.predict_one(x)\n",
    "    adwin_detector.update(y - prediction)\n",
    "    if adwin_detector.change_detected:\n",
    "        print(f\"Change detected at index {i}, retraining the model...\")\n",
    "        # Code to retrain the model\n",
    "```\n",
    "\n",
    "</div>\n",
    "\n",
    "\n",
    "### Page-Hinkley Implementation\n",
    "\n",
    "<div style=\"background-color:#f5f5f5; padding:15px; border-radius:5px; width:94%;\">\n",
    "\n",
    "```python\n",
    "ph_detector = drift.PageHinkley()\n",
    "for i, (x, y) in enumerate(stream.iter_sklearn_dataset(dataset)):\n",
    "    prediction = model.predict_one(x)\n",
    "    ph_detector.update(y - prediction)\n",
    "    if ph_detector.change_detected:\n",
    "        print(f\"Change detected at index {i}, retraining the model...\")\n",
    "        # Code to retrain the model\n",
    "```\n",
    "\n",
    "</div>\n",
    "\n",
    "By employing these concept drift detectors, we ensure our model remains adaptive and responsive to the evolving patterns of air pollution, thereby maintaining its predictive performance over time.\n"
   ]
  },
  {
   "cell_type": "markdown",
   "metadata": {},
   "source": [
    "## 5. Batch Learning with Base Model (Max. 1 point)\n",
    "- **Data Splitting:** Ensure temporal integrity when splitting the dataset.\n",
    "- **Model Training and Evaluation:** Train a base model, evaluate its performance, and establish a benchmark for stream learning models.\n",
    "\n",
    "To establish a benchmark for our stream learning models, we'll start with a traditional batch learning approach using a base model. For consistency and comparability, we'll select a model that is also available in River, allowing for a direct comparison between batch and online learning performances later on. In this case, we'll use a RandomForestRegressor as our base model due to its versatility and strong performance across a variety of regression tasks.\n",
    "\n",
    "### Model Training and Evaluation\n",
    "We'll split our prepared dataset into training and testing sets, train a RandomForestRegressor on the training set, and evaluate its performance on the testing set. The performance metrics of interest will be Root Mean Squared Error (RMSE) and Mean Absolute Error (MAE), which are commonly used in regression tasks to quantify the prediction error of a model.\n",
    "\n",
    "#### Data preparation"
   ]
  },
  {
   "cell_type": "code",
   "execution_count": 34,
   "metadata": {},
   "outputs": [],
   "source": [
    "from sklearn.model_selection import train_test_split\n",
    "from sklearn.metrics import mean_squared_error, mean_absolute_error, r2_score\n",
    "import numpy as np\n",
    "\n",
    "# Drop the date column\n",
    "bash_dataset = dataset.drop(columns='date')\n",
    "\n",
    "# Define columns to scale\n",
    "columns_to_scale = ['current_pollution', 'dew', 'temp', 'press', 'wnd_spd', 'snow', 'rain', 'day_of_week', 'month'] # <------- DAY OF WEEK AND MONTH?\n",
    "\n",
    "# Separate the target variable and features\n",
    "X = bash_dataset.drop(columns=['pred_pollution'])\n",
    "y = bash_dataset['pred_pollution'].values\n",
    "\n",
    "# Define transformer for scaling and encoding\n",
    "preprocessor = ColumnTransformer(\n",
    "    transformers=[\n",
    "        ('num', StandardScaler(), columns_to_scale),\n",
    "    ])\n",
    "\n",
    "# Apply transformations to the features\n",
    "X_prepared = preprocessor.fit_transform(X)\n",
    "\n",
    "# Split the dataset into training and testing sets\n",
    "X_train, X_test, y_train, y_test = train_test_split(X_prepared, y, test_size=0.2, random_state=42)"
   ]
  },
  {
   "cell_type": "markdown",
   "metadata": {},
   "source": [
    "#### Random Forest Regressor"
   ]
  },
  {
   "cell_type": "code",
   "execution_count": 35,
   "metadata": {},
   "outputs": [
    {
     "data": {
      "text/html": [
       "<pre style=\"white-space:pre;overflow-x:auto;line-height:normal;font-family:Menlo,'DejaVu Sans Mono',consolas,'Courier New',monospace\">RMSE: <span style=\"color: #008080; text-decoration-color: #008080; font-weight: bold\">46.942186253874866</span>\n",
       "</pre>\n"
      ],
      "text/plain": [
       "RMSE: \u001b[1;36m46.942186253874866\u001b[0m\n"
      ]
     },
     "metadata": {},
     "output_type": "display_data"
    },
    {
     "data": {
      "text/html": [
       "<pre style=\"white-space:pre;overflow-x:auto;line-height:normal;font-family:Menlo,'DejaVu Sans Mono',consolas,'Courier New',monospace\">MAE: <span style=\"color: #008080; text-decoration-color: #008080; font-weight: bold\">29.881690367421523</span>\n",
       "</pre>\n"
      ],
      "text/plain": [
       "MAE: \u001b[1;36m29.881690367421523\u001b[0m\n"
      ]
     },
     "metadata": {},
     "output_type": "display_data"
    },
    {
     "data": {
      "text/html": [
       "<pre style=\"white-space:pre;overflow-x:auto;line-height:normal;font-family:Menlo,'DejaVu Sans Mono',consolas,'Courier New',monospace\">R^<span style=\"color: #008080; text-decoration-color: #008080; font-weight: bold\">2</span>: <span style=\"color: #008080; text-decoration-color: #008080; font-weight: bold\">0.7389454399782275</span>\n",
       "</pre>\n"
      ],
      "text/plain": [
       "R^\u001b[1;36m2\u001b[0m: \u001b[1;36m0.7389454399782275\u001b[0m\n"
      ]
     },
     "metadata": {},
     "output_type": "display_data"
    }
   ],
   "source": [
    "from sklearn.ensemble import RandomForestRegressor\n",
    "\n",
    "# Initialize the RandomForestRegressor model\n",
    "model = RandomForestRegressor(n_estimators=100, random_state=42)\n",
    "\n",
    "# Train the model on the training data\n",
    "model.fit(X_train, y_train)\n",
    "\n",
    "# Make predictions on the test data\n",
    "y_pred = model.predict(X_test)\n",
    "\n",
    "# Calculate RMSE and MAE\n",
    "rmse = np.sqrt(mean_squared_error(y_test, y_pred))\n",
    "mae = mean_absolute_error(y_test, y_pred)\n",
    "r2 = r2_score(y_test, y_pred)\n",
    "\n",
    "print(f\"RMSE: {rmse}\")\n",
    "print(f\"MAE: {mae}\")\n",
    "print(f\"R^2: {r2}\")"
   ]
  },
  {
   "cell_type": "markdown",
   "metadata": {},
   "source": [
    "#### Linear Regression"
   ]
  },
  {
   "cell_type": "code",
   "execution_count": 36,
   "metadata": {},
   "outputs": [
    {
     "data": {
      "text/html": [
       "<pre style=\"white-space:pre;overflow-x:auto;line-height:normal;font-family:Menlo,'DejaVu Sans Mono',consolas,'Courier New',monospace\">RMSE: <span style=\"color: #008080; text-decoration-color: #008080; font-weight: bold\">76.31549817543738</span>\n",
       "</pre>\n"
      ],
      "text/plain": [
       "RMSE: \u001b[1;36m76.31549817543738\u001b[0m\n"
      ]
     },
     "metadata": {},
     "output_type": "display_data"
    },
    {
     "data": {
      "text/html": [
       "<pre style=\"white-space:pre;overflow-x:auto;line-height:normal;font-family:Menlo,'DejaVu Sans Mono',consolas,'Courier New',monospace\">MAE: <span style=\"color: #008080; text-decoration-color: #008080; font-weight: bold\">55.87328938652452</span>\n",
       "</pre>\n"
      ],
      "text/plain": [
       "MAE: \u001b[1;36m55.87328938652452\u001b[0m\n"
      ]
     },
     "metadata": {},
     "output_type": "display_data"
    },
    {
     "data": {
      "text/html": [
       "<pre style=\"white-space:pre;overflow-x:auto;line-height:normal;font-family:Menlo,'DejaVu Sans Mono',consolas,'Courier New',monospace\">R^<span style=\"color: #008080; text-decoration-color: #008080; font-weight: bold\">2</span>: <span style=\"color: #008080; text-decoration-color: #008080; font-weight: bold\">0.3100300979022693</span>\n",
       "</pre>\n"
      ],
      "text/plain": [
       "R^\u001b[1;36m2\u001b[0m: \u001b[1;36m0.3100300979022693\u001b[0m\n"
      ]
     },
     "metadata": {},
     "output_type": "display_data"
    }
   ],
   "source": [
    "from sklearn.linear_model import LinearRegression\n",
    "\n",
    "# Initialize the LinearRegression model\n",
    "model = LinearRegression()\n",
    "\n",
    "# Train the model on the training data\n",
    "model.fit(X_train, y_train)\n",
    "\n",
    "# Make predictions on the test data\n",
    "y_pred = model.predict(X_test)\n",
    "\n",
    "# Calculate RMSE, MAE and R^2\n",
    "rmse = np.sqrt(mean_squared_error(y_test, y_pred))\n",
    "mae = mean_absolute_error(y_test, y_pred)\n",
    "r2 = r2_score(y_test, y_pred)\n",
    "\n",
    "print(f\"RMSE: {rmse}\")\n",
    "print(f\"MAE: {mae}\")\n",
    "print(f\"R^2: {r2}\")"
   ]
  },
  {
   "cell_type": "markdown",
   "metadata": {},
   "source": [
    "#### Decision Tree Regressor"
   ]
  },
  {
   "cell_type": "code",
   "execution_count": 37,
   "metadata": {},
   "outputs": [
    {
     "data": {
      "text/html": [
       "<pre style=\"white-space:pre;overflow-x:auto;line-height:normal;font-family:Menlo,'DejaVu Sans Mono',consolas,'Courier New',monospace\">RMSE: <span style=\"color: #008080; text-decoration-color: #008080; font-weight: bold\">65.93041100643455</span>\n",
       "</pre>\n"
      ],
      "text/plain": [
       "RMSE: \u001b[1;36m65.93041100643455\u001b[0m\n"
      ]
     },
     "metadata": {},
     "output_type": "display_data"
    },
    {
     "data": {
      "text/html": [
       "<pre style=\"white-space:pre;overflow-x:auto;line-height:normal;font-family:Menlo,'DejaVu Sans Mono',consolas,'Courier New',monospace\">MAE: <span style=\"color: #008080; text-decoration-color: #008080; font-weight: bold\">37.13442211055276</span>\n",
       "</pre>\n"
      ],
      "text/plain": [
       "MAE: \u001b[1;36m37.13442211055276\u001b[0m\n"
      ]
     },
     "metadata": {},
     "output_type": "display_data"
    },
    {
     "data": {
      "text/html": [
       "<pre style=\"white-space:pre;overflow-x:auto;line-height:normal;font-family:Menlo,'DejaVu Sans Mono',consolas,'Courier New',monospace\">R^<span style=\"color: #008080; text-decoration-color: #008080; font-weight: bold\">2</span>: <span style=\"color: #008080; text-decoration-color: #008080; font-weight: bold\">0.485036763742164</span>\n",
       "</pre>\n"
      ],
      "text/plain": [
       "R^\u001b[1;36m2\u001b[0m: \u001b[1;36m0.485036763742164\u001b[0m\n"
      ]
     },
     "metadata": {},
     "output_type": "display_data"
    }
   ],
   "source": [
    "from sklearn.tree import DecisionTreeRegressor\n",
    "\n",
    "# Initialize the DecisionTreeRegressor model\n",
    "model = DecisionTreeRegressor()\n",
    "\n",
    "# Train the model on the training data\n",
    "model.fit(X_train, y_train)\n",
    "\n",
    "# Make predictions on the test data\n",
    "y_pred = model.predict(X_test)\n",
    "\n",
    "# Calculate RMSE, MAE and R^2\n",
    "rmse = np.sqrt(mean_squared_error(y_test, y_pred))\n",
    "mae = mean_absolute_error(y_test, y_pred)\n",
    "r2 = r2_score(y_test, y_pred)\n",
    "\n",
    "print(f\"RMSE: {rmse}\")\n",
    "print(f\"MAE: {mae}\")\n",
    "print(f\"R^2: {r2}\")"
   ]
  },
  {
   "cell_type": "markdown",
   "metadata": {},
   "source": [
    "#### KNN Regressor"
   ]
  },
  {
   "cell_type": "code",
   "execution_count": 38,
   "metadata": {},
   "outputs": [
    {
     "data": {
      "text/html": [
       "<pre style=\"white-space:pre;overflow-x:auto;line-height:normal;font-family:Menlo,'DejaVu Sans Mono',consolas,'Courier New',monospace\">RMSE: <span style=\"color: #008080; text-decoration-color: #008080; font-weight: bold\">48.33519270957091</span>\n",
       "</pre>\n"
      ],
      "text/plain": [
       "RMSE: \u001b[1;36m48.33519270957091\u001b[0m\n"
      ]
     },
     "metadata": {},
     "output_type": "display_data"
    },
    {
     "data": {
      "text/html": [
       "<pre style=\"white-space:pre;overflow-x:auto;line-height:normal;font-family:Menlo,'DejaVu Sans Mono',consolas,'Courier New',monospace\">MAE: <span style=\"color: #008080; text-decoration-color: #008080; font-weight: bold\">29.186021014161717</span>\n",
       "</pre>\n"
      ],
      "text/plain": [
       "MAE: \u001b[1;36m29.186021014161717\u001b[0m\n"
      ]
     },
     "metadata": {},
     "output_type": "display_data"
    },
    {
     "data": {
      "text/html": [
       "<pre style=\"white-space:pre;overflow-x:auto;line-height:normal;font-family:Menlo,'DejaVu Sans Mono',consolas,'Courier New',monospace\">R^<span style=\"color: #008080; text-decoration-color: #008080; font-weight: bold\">2</span>: <span style=\"color: #008080; text-decoration-color: #008080; font-weight: bold\">0.7232219991839729</span>\n",
       "</pre>\n"
      ],
      "text/plain": [
       "R^\u001b[1;36m2\u001b[0m: \u001b[1;36m0.7232219991839729\u001b[0m\n"
      ]
     },
     "metadata": {},
     "output_type": "display_data"
    }
   ],
   "source": [
    "from sklearn.neighbors import KNeighborsRegressor\n",
    "\n",
    "# Initialize the KNeighborsRegressor model\n",
    "model = KNeighborsRegressor(n_neighbors=5)\n",
    "\n",
    "# Train the model on the training data\n",
    "model.fit(X_train, y_train)\n",
    "\n",
    "# Make predictions on the test data\n",
    "y_pred = model.predict(X_test)\n",
    "\n",
    "# Calculate RMSE, MAE and R^2\n",
    "rmse = np.sqrt(mean_squared_error(y_test, y_pred))\n",
    "mae = mean_absolute_error(y_test, y_pred)\n",
    "r2 = r2_score(y_test, y_pred)\n",
    "\n",
    "print(f\"RMSE: {rmse}\")\n",
    "print(f\"MAE: {mae}\")\n",
    "print(f\"R^2: {r2}\")"
   ]
  },
  {
   "cell_type": "markdown",
   "metadata": {},
   "source": [
    "### With cross-validation. "
   ]
  },
  {
   "cell_type": "code",
   "execution_count": 39,
   "metadata": {},
   "outputs": [
    {
     "data": {
      "text/html": [
       "<pre style=\"white-space:pre;overflow-x:auto;line-height:normal;font-family:Menlo,'DejaVu Sans Mono',consolas,'Courier New',monospace\">RMSE = <span style=\"color: #008080; text-decoration-color: #008080; font-weight: bold\">46.9466</span> <span style=\"font-weight: bold\">(</span>± <span style=\"color: #008080; text-decoration-color: #008080; font-weight: bold\">1.1530</span><span style=\"font-weight: bold\">)</span>\n",
       "</pre>\n"
      ],
      "text/plain": [
       "RMSE = \u001b[1;36m46.9466\u001b[0m \u001b[1m(\u001b[0m± \u001b[1;36m1.1530\u001b[0m\u001b[1m)\u001b[0m\n"
      ]
     },
     "metadata": {},
     "output_type": "display_data"
    },
    {
     "data": {
      "text/html": [
       "<pre style=\"white-space:pre;overflow-x:auto;line-height:normal;font-family:Menlo,'DejaVu Sans Mono',consolas,'Courier New',monospace\">MAE = <span style=\"color: #008080; text-decoration-color: #008080; font-weight: bold\">30.1226</span> <span style=\"font-weight: bold\">(</span>± <span style=\"color: #008080; text-decoration-color: #008080; font-weight: bold\">0.4400</span><span style=\"font-weight: bold\">)</span>\n",
       "</pre>\n"
      ],
      "text/plain": [
       "MAE = \u001b[1;36m30.1226\u001b[0m \u001b[1m(\u001b[0m± \u001b[1;36m0.4400\u001b[0m\u001b[1m)\u001b[0m\n"
      ]
     },
     "metadata": {},
     "output_type": "display_data"
    },
    {
     "data": {
      "text/html": [
       "<pre style=\"white-space:pre;overflow-x:auto;line-height:normal;font-family:Menlo,'DejaVu Sans Mono',consolas,'Courier New',monospace\">R^<span style=\"color: #008080; text-decoration-color: #008080; font-weight: bold\">2</span> = <span style=\"color: #008080; text-decoration-color: #008080; font-weight: bold\">0.7410</span> <span style=\"font-weight: bold\">(</span>± <span style=\"color: #008080; text-decoration-color: #008080; font-weight: bold\">0.0073</span><span style=\"font-weight: bold\">)</span>\n",
       "</pre>\n"
      ],
      "text/plain": [
       "R^\u001b[1;36m2\u001b[0m = \u001b[1;36m0.7410\u001b[0m \u001b[1m(\u001b[0m± \u001b[1;36m0.0073\u001b[0m\u001b[1m)\u001b[0m\n"
      ]
     },
     "metadata": {},
     "output_type": "display_data"
    }
   ],
   "source": [
    "from sklearn.ensemble import RandomForestRegressor\n",
    "from sklearn.metrics import make_scorer, mean_squared_error, mean_absolute_error, r2_score\n",
    "from sklearn.model_selection import cross_val_score, KFold\n",
    "from sklearn.pipeline import Pipeline\n",
    "from sklearn.preprocessing import StandardScaler\n",
    "from sklearn.compose import ColumnTransformer\n",
    "import numpy as np\n",
    "\n",
    "# Drop the date column and prepare features and target\n",
    "bash_dataset = dataset.drop(columns='date')\n",
    "X = bash_dataset.drop(columns=['pred_pollution'])\n",
    "y = bash_dataset['pred_pollution'].values\n",
    "\n",
    "# Define scorers for RMSE and MAE\n",
    "def rmse(y_true, y_pred):\n",
    "    return np.sqrt(mean_squared_error(y_true, y_pred))\n",
    "\n",
    "def mae(y_true, y_pred):\n",
    "    return mean_absolute_error(y_true, y_pred)\n",
    "\n",
    "scorers = {\n",
    "    'RMSE': make_scorer(rmse, greater_is_better=False),\n",
    "    'MAE': make_scorer(mae, greater_is_better=False),\n",
    "    'R^2': make_scorer(r2_score)\n",
    "}\n",
    "\n",
    "# Define a deterministic cross-validation procedure\n",
    "cv = KFold(n_splits=5, shuffle=True, random_state=42)\n",
    "\n",
    "# Define transformer for scaling\n",
    "columns_to_scale = ['current_pollution', 'dew', 'temp', 'press', 'wnd_spd', 'snow', 'rain', 'day_of_week', 'month']\n",
    "preprocessor = ColumnTransformer(\n",
    "    transformers=[\n",
    "        ('num', StandardScaler(), columns_to_scale)\n",
    "    ],\n",
    "    remainder='passthrough'  # Keep the one-hot encoded 'wnd_dir' columns as is\n",
    ")\n",
    "\n",
    "########### Model can be switched after this line ###########\n",
    "\n",
    "# Define the pipeline with preprocessing steps and the model to be used\n",
    "pipe = Pipeline([\n",
    "    ('preprocessor', preprocessor),\n",
    "    ('regressor', RandomForestRegressor(n_estimators=100, random_state=42))  # Model to perform the regression\n",
    "])\n",
    "\n",
    "# Perform cross-validation and calculate scores\n",
    "scores = {scorer_name: cross_val_score(pipe, X, y, scoring=scorer, cv=cv) for scorer_name, scorer in scorers.items()}\n",
    "\n",
    "# Display results\n",
    "for score_name, score_values in scores.items():\n",
    "    print(f'{score_name} = {-score_values.mean():.4f} (± {score_values.std():.4f})' if score_name in ['RMSE', 'MAE'] else f'{score_name} = {score_values.mean():.4f} (± {score_values.std():.4f})')"
   ]
  },
  {
   "cell_type": "markdown",
   "metadata": {},
   "source": [
    "### All steps here, also with cross-validation."
   ]
  },
  {
   "cell_type": "code",
   "execution_count": 40,
   "metadata": {},
   "outputs": [
    {
     "data": {
      "text/html": [
       "<pre style=\"white-space:pre;overflow-x:auto;line-height:normal;font-family:Menlo,'DejaVu Sans Mono',consolas,'Courier New',monospace\">RMSE = <span style=\"color: #008080; text-decoration-color: #008080; font-weight: bold\">46.3844</span> <span style=\"font-weight: bold\">(</span>± <span style=\"color: #008080; text-decoration-color: #008080; font-weight: bold\">1.1825</span><span style=\"font-weight: bold\">)</span>\n",
       "</pre>\n"
      ],
      "text/plain": [
       "RMSE = \u001b[1;36m46.3844\u001b[0m \u001b[1m(\u001b[0m± \u001b[1;36m1.1825\u001b[0m\u001b[1m)\u001b[0m\n"
      ]
     },
     "metadata": {},
     "output_type": "display_data"
    },
    {
     "data": {
      "text/html": [
       "<pre style=\"white-space:pre;overflow-x:auto;line-height:normal;font-family:Menlo,'DejaVu Sans Mono',consolas,'Courier New',monospace\">MAE = <span style=\"color: #008080; text-decoration-color: #008080; font-weight: bold\">29.7954</span> <span style=\"font-weight: bold\">(</span>± <span style=\"color: #008080; text-decoration-color: #008080; font-weight: bold\">0.5777</span><span style=\"font-weight: bold\">)</span>\n",
       "</pre>\n"
      ],
      "text/plain": [
       "MAE = \u001b[1;36m29.7954\u001b[0m \u001b[1m(\u001b[0m± \u001b[1;36m0.5777\u001b[0m\u001b[1m)\u001b[0m\n"
      ]
     },
     "metadata": {},
     "output_type": "display_data"
    },
    {
     "data": {
      "text/html": [
       "<pre style=\"white-space:pre;overflow-x:auto;line-height:normal;font-family:Menlo,'DejaVu Sans Mono',consolas,'Courier New',monospace\">R^<span style=\"color: #008080; text-decoration-color: #008080; font-weight: bold\">2</span> = <span style=\"color: #008080; text-decoration-color: #008080; font-weight: bold\">0.7472</span> <span style=\"font-weight: bold\">(</span>± <span style=\"color: #008080; text-decoration-color: #008080; font-weight: bold\">0.0067</span><span style=\"font-weight: bold\">)</span>\n",
       "</pre>\n"
      ],
      "text/plain": [
       "R^\u001b[1;36m2\u001b[0m = \u001b[1;36m0.7472\u001b[0m \u001b[1m(\u001b[0m± \u001b[1;36m0.0067\u001b[0m\u001b[1m)\u001b[0m\n"
      ]
     },
     "metadata": {},
     "output_type": "display_data"
    }
   ],
   "source": [
    "import pandas as pd\n",
    "from sklearn.model_selection import train_test_split, cross_val_score, KFold\n",
    "from sklearn.metrics import mean_squared_error, mean_absolute_error, make_scorer\n",
    "from sklearn.pipeline import Pipeline\n",
    "from sklearn.compose import ColumnTransformer\n",
    "from sklearn.preprocessing import StandardScaler, OneHotEncoder\n",
    "from sklearn.ensemble import RandomForestRegressor\n",
    "import numpy as np\n",
    "\n",
    "# Load the dataset\n",
    "dataset = pd.read_csv('data/air_pollution_dataset_modified.csv')\n",
    "\n",
    "# Extract day of the week, month, and hour from the date column\n",
    "dataset['date'] = pd.to_datetime(dataset['date'])\n",
    "dataset['day_of_week'] = dataset['date'].dt.dayofweek\n",
    "dataset['month'] = dataset['date'].dt.month\n",
    "dataset['hour'] = dataset['date'].dt.hour\n",
    "\n",
    "# Perform one-hot encoding on the 'wnd_dir' column\n",
    "dataset = pd.get_dummies(dataset, columns=['wnd_dir'], drop_first=True)\n",
    "\n",
    "# Drop the date column for modeling\n",
    "dataset.drop(columns=['date'], inplace=True)\n",
    "\n",
    "# Define features and target variable\n",
    "X = dataset.drop(columns=['pred_pollution'])\n",
    "y = dataset['pred_pollution'].values\n",
    "\n",
    "# Define columns to scale and columns to encode\n",
    "columns_to_scale = ['current_pollution', 'dew', 'temp', 'press', 'wnd_spd', 'snow', 'rain', 'day_of_week', 'month', 'hour']\n",
    "\n",
    "# Define preprocessing pipeline\n",
    "preprocessor = ColumnTransformer(\n",
    "    transformers=[\n",
    "        ('num', StandardScaler(), columns_to_scale),\n",
    "    ])\n",
    "\n",
    "# Define the model\n",
    "model = RandomForestRegressor(n_estimators=100, random_state=42)\n",
    "\n",
    "# Create the full pipeline\n",
    "pipeline = Pipeline([\n",
    "    ('preprocessor', preprocessor),\n",
    "    ('model', model)\n",
    "])\n",
    "\n",
    "# Define a deterministic cross-validation procedure\n",
    "cv = KFold(n_splits=5, shuffle=True, random_state=42)\n",
    "\n",
    "# Define scorers\n",
    "def rmse(y_true, y_pred):\n",
    "    return np.sqrt(mean_squared_error(y_true, y_pred))\n",
    "\n",
    "scorers = {\n",
    "    'RMSE': make_scorer(rmse, greater_is_better=False),\n",
    "    'MAE': make_scorer(mean_absolute_error, greater_is_better=False),\n",
    "    'R^2': make_scorer(r2_score)\n",
    "}\n",
    "\n",
    "# Perform cross-validation and calculate scores\n",
    "scores = {scorer_name: cross_val_score(pipeline, X, y, scoring=scorer, cv=cv) for scorer_name, scorer in scorers.items()}\n",
    "\n",
    "# Display results\n",
    "for score_name, score_values in scores.items():\n",
    "    print(f'{score_name} = {-score_values.mean():.4f} (± {score_values.std():.4f})' if score_name in ['RMSE', 'MAE'] else f'{score_name} = {score_values.mean():.4f} (± {score_values.std():.4f})')"
   ]
  },
  {
   "cell_type": "markdown",
   "metadata": {},
   "source": [
    "## 6. Stream Learning (Max. 2 points)\n",
    "- **Stream Pipeline Implementation:** Develop a River stream pipeline for data preprocessing, model training, and evaluation.\n",
    "- **Model Selection/Comparison:** Compare at least three machine learning models within River, including a Hoeffding Tree model.\n",
    "\n",
    "For the Stream Learning section with River, we will implement a stream processing pipeline using River to continuously learn and predict pollution levels based on the data transformations we previously discussed. We will compare three different machine learning models provided by River, including a Hoeffding Tree model, to determine the best performer for our online learning scenario.\n",
    "\n",
    "### Stream Learning Implementation\n",
    "To start with, we need to adapt our dataset to a streaming format. River provides a convenient way to simulate streaming data from a DataFrame. We will use the iter_pandas method from River's stream module for this purpose.\n"
   ]
  },
  {
   "cell_type": "code",
   "execution_count": 15,
   "metadata": {},
   "outputs": [],
   "source": [
    "from river import stream\n",
    "from river.metrics import MAE, MSE, R2\n",
    "from river import compose\n",
    "from river import preprocessing\n",
    "from math import sqrt\n",
    "from river import compose, feature_extraction, preprocessing, time_series, linear_model, metrics, evaluate, stream, utils, stats, neighbors\n",
    "import pandas as pd\n",
    "import itertools\n",
    "from river import drift\n"
   ]
  },
  {
   "cell_type": "markdown",
   "metadata": {},
   "source": [
    "### Baseline Stream Learning Model"
   ]
  },
  {
   "cell_type": "code",
   "execution_count": 16,
   "metadata": {},
   "outputs": [
    {
     "name": "stdout",
     "output_type": "stream",
     "text": [
      "{'date': '2010-01-02 00:00:00', 'dew': -16.0, 'temp': -4.0, 'press': 1020.0, 'wnd_dir': 1.0, 'wnd_spd': 1.79, 'snow': 0.0, 'rain': 0.0}\n",
      "129.0\n"
     ]
    }
   ],
   "source": [
    "dataset_path = 'data/air_pollution_dataset.csv'\n",
    "\n",
    "# Wind direction mapping\n",
    "mapping = {'SE': 1, 'cv': 2, 'NW': 3, 'NE': 4}\n",
    "converter = lambda x: float(mapping[x])\n",
    "\n",
    "pollution_stream = stream.iter_csv(dataset_path, target='pollution', converters={'pollution': float, 'dew': float,\n",
    "                                                                                 'temp': float, 'press': float, \n",
    "                                                                                 'wnd_dir': converter, 'wnd_spd': float,\n",
    "                                                                                 'snow': float, 'rain': float})\n",
    "sample, target = next(pollution_stream)\n",
    "print(sample)\n",
    "print(target)"
   ]
  },
  {
   "cell_type": "code",
   "execution_count": 17,
   "metadata": {},
   "outputs": [
    {
     "name": "stdout",
     "output_type": "stream",
     "text": [
      "Transformed: {'dew': '-15.00000', 'temp': '-4.00000', 'press': '1020.00000', 'wnd_dir': '1.00000', 'wnd_spd': '2.68000', 'snow': '0.00000', 'rain': '0.00000'}\n",
      "Predicted:  148.0\n",
      "True Label:  148.0\n",
      "[1,000] MAE: 35.732667\n",
      "[2,000] MAE: 37.501733\n",
      "[3,000] MAE: 38.706289\n",
      "[4,000] MAE: 39.685917\n",
      "[5,000] MAE: 39.895453\n",
      "[6,000] MAE: 39.699011\n",
      "[7,000] MAE: 41.510152\n",
      "[8,000] MAE: 42.565483\n",
      "[9,000] MAE: 41.366007\n",
      "[10,000] MAE: 40.775067\n",
      "[11,000] MAE: 41.688733\n",
      "[12,000] MAE: 41.646572\n",
      "[13,000] MAE: 41.393651\n",
      "[14,000] MAE: 42.60209\n",
      "[15,000] MAE: 42.558284\n",
      "[16,000] MAE: 43.341879\n",
      "[17,000] MAE: 43.254639\n",
      "[18,000] MAE: 43.293559\n",
      "[19,000] MAE: 43.252035\n",
      "[20,000] MAE: 42.837193\n",
      "[21,000] MAE: 42.704517\n",
      "[22,000] MAE: 42.814512\n",
      "[23,000] MAE: 42.758446\n",
      "[24,000] MAE: 42.398053\n",
      "[25,000] MAE: 42.328331\n",
      "[26,000] MAE: 42.176126\n",
      "[27,000] MAE: 42.949054\n",
      "[28,000] MAE: 43.58906\n",
      "[29,000] MAE: 44.149437\n",
      "[30,000] MAE: 43.883909\n",
      "[31,000] MAE: 43.843415\n",
      "[32,000] MAE: 43.412946\n",
      "[33,000] MAE: 43.201741\n",
      "[34,000] MAE: 43.075643\n",
      "[35,000] MAE: 42.89071\n",
      "[36,000] MAE: 43.003952\n",
      "[37,000] MAE: 43.399034\n",
      "[38,000] MAE: 43.682533\n",
      "[39,000] MAE: 43.442817\n",
      "[40,000] MAE: 43.179637\n",
      "[41,000] MAE: 42.738324\n",
      "[42,000] MAE: 42.592611\n",
      "[43,000] MAE: 42.710536\n",
      "[43,798] MAE: 42.652168\n",
      "MAE: 42.652168\n"
     ]
    }
   ],
   "source": [
    "# Discarding date column and scaling the data\n",
    "to_discard=['date']\n",
    "model = compose.Pipeline(compose.Discard(*to_discard), neighbors.KNNRegressor(n_neighbors=5))\n",
    "\n",
    "# Check the model's samples after preprocessing\n",
    "for x, y in pollution_stream:\n",
    "    model.learn_one(x, y)\n",
    "    transformed_x = model.transform_one(x)\n",
    "    print(\"Transformed:\", {key: \"{:.5f}\".format(value) for key, value in transformed_x.items()})\n",
    "    print(\"Predicted: \", model.predict_one(x))\n",
    "    print(\"True Label: \", y)\n",
    "    break\n",
    "\n",
    "print(evaluate.progressive_val_score(dataset=pollution_stream, model=model, metric=metrics.MAE(), print_every=1000))\n"
   ]
  },
  {
   "cell_type": "markdown",
   "metadata": {},
   "source": [
    "# Cambiar o batch format ao formato que puxo el con pipeline e así.\n",
    "\n",
    "# Comparar despois co comparador de modelos de river que pasa a sklearn-format?\n",
    "\n",
    "# Meter moving average, \n",
    "\n",
    "# Meterlle o de sacar momth e weekday no pipeline de river\n",
    "\n",
    "# se non funciona isto poñerlle un shift de 1-2 horas só a predito e o resto de features que sexan valores actuais.\n",
    "\n",
    "# Montar o pipeline de river coma no exemplo, compacto e con todo o preprocessing e así.\n",
    "\n",
    "# Poñerlle o debug\n",
    "\n",
    "# Usar os drift detectors - pero despois como se consideran no entranemento continuo do modelo?\n",
    "\n",
    "# facer unha gráfica coa evolución temporal da métrica que queiramos e comparala coa métrica do modelo batch."
   ]
  },
  {
   "cell_type": "markdown",
   "metadata": {},
   "source": [
    "Given that we have already prepared our dataset and target variable `(X_prepared, y)`, we need to reconstruct our DataFrame to use iter_pandas. This involves converting the `X_prepared` array back to a DataFrame and adding the target variable y back into the DataFrame."
   ]
  },
  {
   "cell_type": "code",
   "execution_count": 49,
   "metadata": {},
   "outputs": [
    {
     "data": {
      "text/html": [
       "<pre style=\"white-space:pre;overflow-x:auto;line-height:normal;font-family:Menlo,'DejaVu Sans Mono',consolas,'Courier New',monospace\"><span style=\"font-weight: bold\">{</span>\n",
       "    <span style=\"color: #008000; text-decoration-color: #008000\">'dew'</span>: <span style=\"color: #008080; text-decoration-color: #008080; font-weight: bold\">-7</span>,\n",
       "    <span style=\"color: #008000; text-decoration-color: #008000\">'temp'</span>: <span style=\"color: #008080; text-decoration-color: #008080; font-weight: bold\">-6.0</span>,\n",
       "    <span style=\"color: #008000; text-decoration-color: #008000\">'press'</span>: <span style=\"color: #008080; text-decoration-color: #008080; font-weight: bold\">1027.0</span>,\n",
       "    <span style=\"color: #008000; text-decoration-color: #008000\">'wnd_spd'</span>: <span style=\"color: #008080; text-decoration-color: #008080; font-weight: bold\">58.56</span>,\n",
       "    <span style=\"color: #008000; text-decoration-color: #008000\">'snow'</span>: <span style=\"color: #008080; text-decoration-color: #008080; font-weight: bold\">4</span>,\n",
       "    <span style=\"color: #008000; text-decoration-color: #008000\">'rain'</span>: <span style=\"color: #008080; text-decoration-color: #008080; font-weight: bold\">0</span>,\n",
       "    <span style=\"color: #008000; text-decoration-color: #008000\">'current_pollution'</span>: <span style=\"color: #008080; text-decoration-color: #008080; font-weight: bold\">129.0</span>,\n",
       "    <span style=\"color: #008000; text-decoration-color: #008000\">'day_of_week'</span>: <span style=\"color: #008080; text-decoration-color: #008080; font-weight: bold\">6</span>,\n",
       "    <span style=\"color: #008000; text-decoration-color: #008000\">'month'</span>: <span style=\"color: #008080; text-decoration-color: #008080; font-weight: bold\">1</span>,\n",
       "    <span style=\"color: #008000; text-decoration-color: #008000\">'hour'</span>: <span style=\"color: #008080; text-decoration-color: #008080; font-weight: bold\">0</span>,\n",
       "    <span style=\"color: #008000; text-decoration-color: #008000\">'wnd_dir_NW'</span>: <span style=\"color: #ff0000; text-decoration-color: #ff0000; font-style: italic\">False</span>,\n",
       "    <span style=\"color: #008000; text-decoration-color: #008000\">'wnd_dir_SE'</span>: <span style=\"color: #00ff00; text-decoration-color: #00ff00; font-style: italic\">True</span>,\n",
       "    <span style=\"color: #008000; text-decoration-color: #008000\">'wnd_dir_cv'</span>: <span style=\"color: #ff0000; text-decoration-color: #ff0000; font-style: italic\">False</span>\n",
       "<span style=\"font-weight: bold\">}</span>\n",
       "</pre>\n"
      ],
      "text/plain": [
       "\u001b[1m{\u001b[0m\n",
       "    \u001b[32m'dew'\u001b[0m: \u001b[1;36m-7\u001b[0m,\n",
       "    \u001b[32m'temp'\u001b[0m: \u001b[1;36m-6.0\u001b[0m,\n",
       "    \u001b[32m'press'\u001b[0m: \u001b[1;36m1027.0\u001b[0m,\n",
       "    \u001b[32m'wnd_spd'\u001b[0m: \u001b[1;36m58.56\u001b[0m,\n",
       "    \u001b[32m'snow'\u001b[0m: \u001b[1;36m4\u001b[0m,\n",
       "    \u001b[32m'rain'\u001b[0m: \u001b[1;36m0\u001b[0m,\n",
       "    \u001b[32m'current_pollution'\u001b[0m: \u001b[1;36m129.0\u001b[0m,\n",
       "    \u001b[32m'day_of_week'\u001b[0m: \u001b[1;36m6\u001b[0m,\n",
       "    \u001b[32m'month'\u001b[0m: \u001b[1;36m1\u001b[0m,\n",
       "    \u001b[32m'hour'\u001b[0m: \u001b[1;36m0\u001b[0m,\n",
       "    \u001b[32m'wnd_dir_NW'\u001b[0m: \u001b[3;91mFalse\u001b[0m,\n",
       "    \u001b[32m'wnd_dir_SE'\u001b[0m: \u001b[3;92mTrue\u001b[0m,\n",
       "    \u001b[32m'wnd_dir_cv'\u001b[0m: \u001b[3;91mFalse\u001b[0m\n",
       "\u001b[1m}\u001b[0m\n"
      ]
     },
     "metadata": {},
     "output_type": "display_data"
    },
    {
     "data": {
      "text/html": [
       "<pre style=\"white-space:pre;overflow-x:auto;line-height:normal;font-family:Menlo,'DejaVu Sans Mono',consolas,'Courier New',monospace\"><span style=\"color: #008080; text-decoration-color: #008080; font-weight: bold\">90.0</span>\n",
       "</pre>\n"
      ],
      "text/plain": [
       "\u001b[1;36m90.0\u001b[0m\n"
      ]
     },
     "metadata": {},
     "output_type": "display_data"
    }
   ],
   "source": [
    "stream_data = stream.iter_pandas(X=dataset.drop(columns='pred_pollution'), y=dataset['pred_pollution'])\n",
    "\n",
    "sample, target = next(stream_data)\n",
    "print(sample)\n",
    "print(target)"
   ]
  },
  {
   "cell_type": "markdown",
   "metadata": {},
   "source": [
    "### Drift Detection in Stream Learning"
   ]
  },
  {
   "cell_type": "code",
   "execution_count": 46,
   "metadata": {},
   "outputs": [
    {
     "ename": "TypeError",
     "evalue": "must be real number, not tuple",
     "output_type": "error",
     "traceback": [
      "\u001b[0;31m---------------------------------------------------------------------------\u001b[0m",
      "\u001b[0;31mTypeError\u001b[0m                                 Traceback (most recent call last)",
      "Cell \u001b[0;32mIn[46], line 18\u001b[0m\n\u001b[1;32m     15\u001b[0m drifts \u001b[38;5;241m=\u001b[39m []\n\u001b[1;32m     17\u001b[0m \u001b[38;5;28;01mfor\u001b[39;00m i, val \u001b[38;5;129;01min\u001b[39;00m \u001b[38;5;28menumerate\u001b[39m(stream_data):\n\u001b[0;32m---> 18\u001b[0m     \u001b[43mdrift_detector\u001b[49m\u001b[38;5;241;43m.\u001b[39;49m\u001b[43mupdate\u001b[49m\u001b[43m(\u001b[49m\u001b[43mval\u001b[49m\u001b[43m)\u001b[49m   \u001b[38;5;66;03m# Data is processed one sample at a time\u001b[39;00m\n\u001b[1;32m     19\u001b[0m     \u001b[38;5;28;01mif\u001b[39;00m drift_detector\u001b[38;5;241m.\u001b[39mdrift_detected:\n\u001b[1;32m     20\u001b[0m         \u001b[38;5;66;03m# The drift detector indicates after each sample if there is a drift in the data\u001b[39;00m\n\u001b[1;32m     21\u001b[0m         \u001b[38;5;28mprint\u001b[39m(\u001b[38;5;124mf\u001b[39m\u001b[38;5;124m'\u001b[39m\u001b[38;5;124mChange detected at index \u001b[39m\u001b[38;5;132;01m{\u001b[39;00mi\u001b[38;5;132;01m}\u001b[39;00m\u001b[38;5;124m'\u001b[39m)\n",
      "File \u001b[0;32m/opt/homebrew/Caskroom/miniforge/base/lib/python3.10/site-packages/river/drift/adwin.py:135\u001b[0m, in \u001b[0;36mADWIN.update\u001b[0;34m(self, x)\u001b[0m\n\u001b[1;32m    132\u001b[0m \u001b[38;5;28;01mif\u001b[39;00m \u001b[38;5;28mself\u001b[39m\u001b[38;5;241m.\u001b[39mdrift_detected:\n\u001b[1;32m    133\u001b[0m     \u001b[38;5;28mself\u001b[39m\u001b[38;5;241m.\u001b[39m_reset()\n\u001b[0;32m--> 135\u001b[0m \u001b[38;5;28mself\u001b[39m\u001b[38;5;241m.\u001b[39m_drift_detected \u001b[38;5;241m=\u001b[39m \u001b[38;5;28;43mself\u001b[39;49m\u001b[38;5;241;43m.\u001b[39;49m\u001b[43m_helper\u001b[49m\u001b[38;5;241;43m.\u001b[39;49m\u001b[43mupdate\u001b[49m\u001b[43m(\u001b[49m\u001b[43mx\u001b[49m\u001b[43m)\u001b[49m\n",
      "File \u001b[0;32mbuild/lib.macosx-10.9-universal2-cpython-39/river/drift/adwin_c.pyx:72\u001b[0m, in \u001b[0;36mriver.drift.adwin_c.AdaptiveWindowing.update\u001b[0;34m()\u001b[0m\n",
      "\u001b[0;31mTypeError\u001b[0m: must be real number, not tuple"
     ]
    }
   ],
   "source": [
    "# Auxiliary function to analyse the data\n",
    "def plot_data(stream, drifts=None):\n",
    "    fig = plt.figure(figsize=(7,3), tight_layout=True)\n",
    "    ax1 = plt.subplot()\n",
    "    ax1.grid()\n",
    "    ax1.plot(stream, label='Stream')\n",
    "    if drifts is not None:\n",
    "        for drift_detected in drifts:\n",
    "            ax1.axvline(drift_detected, color='red')\n",
    "    plt.show()\n",
    "\n",
    "drift_detector = drift.ADWIN()\n",
    "drifts = []\n",
    "\n",
    "for i, val in enumerate(stream_data):\n",
    "    drift_detector.update(val)   # Data is processed one sample at a time\n",
    "    if drift_detector.drift_detected:\n",
    "        # The drift detector indicates after each sample if there is a drift in the data\n",
    "        print(f'Change detected at index {i}')\n",
    "        drifts.append(i)\n",
    "\n",
    "plot_data(stream_data, drifts)"
   ]
  },
  {
   "cell_type": "markdown",
   "metadata": {},
   "source": [
    "### Model Selection for Stream Learning\n",
    "\n",
    "We will implement three different models for our stream learning scenario:\n",
    "\n",
    "- **Linear Regression** - A baseline model for regression tasks.\n",
    "- **Random Forest Regressor** - An ensemble method for regression.\n",
    "- **Hoeffding Tree Regressor** - A decision tree algorithm designed for streaming data.\n",
    "\n",
    "For each model, we will create a corresponding River pipeline that includes necessary preprocessing steps (if any) and the model itself."
   ]
  },
  {
   "cell_type": "code",
   "execution_count": null,
   "metadata": {},
   "outputs": [],
   "source": [
    "from river import linear_model\n",
    "\n",
    "model = linear_model.LogisticRegression()"
   ]
  },
  {
   "cell_type": "code",
   "execution_count": null,
   "metadata": {},
   "outputs": [
    {
     "ename": "ImportError",
     "evalue": "cannot import name 'PerceptronRegressor' from 'river.linear_model' (/opt/homebrew/Caskroom/miniforge/base/lib/python3.10/site-packages/river/linear_model/__init__.py)",
     "output_type": "error",
     "traceback": [
      "\u001b[0;31m---------------------------------------------------------------------------\u001b[0m",
      "\u001b[0;31mImportError\u001b[0m                               Traceback (most recent call last)",
      "Cell \u001b[0;32mIn[45], line 1\u001b[0m\n\u001b[0;32m----> 1\u001b[0m \u001b[38;5;28;01mfrom\u001b[39;00m \u001b[38;5;21;01mriver\u001b[39;00m\u001b[38;5;21;01m.\u001b[39;00m\u001b[38;5;21;01mlinear_model\u001b[39;00m \u001b[38;5;28;01mimport\u001b[39;00m PerceptronRegressor\n\u001b[1;32m      2\u001b[0m \u001b[38;5;28;01mfrom\u001b[39;00m \u001b[38;5;21;01mriver\u001b[39;00m\u001b[38;5;21;01m.\u001b[39;00m\u001b[38;5;21;01mmetrics\u001b[39;00m \u001b[38;5;28;01mimport\u001b[39;00m MAE, MSE, R2\n\u001b[1;32m      3\u001b[0m \u001b[38;5;28;01mfrom\u001b[39;00m \u001b[38;5;21;01mriver\u001b[39;00m \u001b[38;5;28;01mimport\u001b[39;00m compose\n",
      "\u001b[0;31mImportError\u001b[0m: cannot import name 'PerceptronRegressor' from 'river.linear_model' (/opt/homebrew/Caskroom/miniforge/base/lib/python3.10/site-packages/river/linear_model/__init__.py)"
     ]
    }
   ],
   "source": [
    "# Initialize the PerceptronRegressor model\n",
    "model = compose.Pipeline(\n",
    "    preprocessing.StandardScaler(),\n",
    "    PerceptronRegressor()\n",
    ")\n",
    "\n",
    "# Train the model on the training data and make predictions on the test data\n",
    "y_pred = []\n",
    "for xi, yi in zip(X_train, y_train):\n",
    "    model.learn_one(xi, yi)\n",
    "for xi in X_test:\n",
    "    y_pred.append(model.predict_one(xi))\n",
    "\n",
    "# Calculate RMSE, MAE and R^2\n",
    "rmse = sqrt(MSE()(y_test, y_pred))\n",
    "mae = MAE()(y_test, y_pred)\n",
    "r2 = R2()(y_test, y_pred)\n",
    "\n",
    "print(f\"RMSE: {rmse}\")\n",
    "print(f\"MAE: {mae}\")\n",
    "print(f\"R^2: {r2}\")"
   ]
  },
  {
   "cell_type": "code",
   "execution_count": 51,
   "metadata": {},
   "outputs": [
    {
     "data": {
      "text/html": [
       "<div>\n",
       "<style scoped>\n",
       "    .dataframe tbody tr th:only-of-type {\n",
       "        vertical-align: middle;\n",
       "    }\n",
       "\n",
       "    .dataframe tbody tr th {\n",
       "        vertical-align: top;\n",
       "    }\n",
       "\n",
       "    .dataframe thead th {\n",
       "        text-align: right;\n",
       "    }\n",
       "</style>\n",
       "<table border=\"1\" class=\"dataframe\">\n",
       "  <thead>\n",
       "    <tr style=\"text-align: right;\">\n",
       "      <th></th>\n",
       "      <th>date</th>\n",
       "      <th>pred_pollution</th>\n",
       "      <th>dew</th>\n",
       "      <th>temp</th>\n",
       "      <th>press</th>\n",
       "      <th>wnd_dir</th>\n",
       "      <th>wnd_spd</th>\n",
       "      <th>snow</th>\n",
       "      <th>rain</th>\n",
       "      <th>current_pollution</th>\n",
       "    </tr>\n",
       "  </thead>\n",
       "  <tbody>\n",
       "    <tr>\n",
       "      <th>0</th>\n",
       "      <td>2010-01-03 00:00:00</td>\n",
       "      <td>90.0</td>\n",
       "      <td>-7</td>\n",
       "      <td>-6.0</td>\n",
       "      <td>1027.0</td>\n",
       "      <td>SE</td>\n",
       "      <td>58.56</td>\n",
       "      <td>4</td>\n",
       "      <td>0</td>\n",
       "      <td>129.0</td>\n",
       "    </tr>\n",
       "    <tr>\n",
       "      <th>1</th>\n",
       "      <td>2010-01-03 01:00:00</td>\n",
       "      <td>63.0</td>\n",
       "      <td>-8</td>\n",
       "      <td>-6.0</td>\n",
       "      <td>1026.0</td>\n",
       "      <td>SE</td>\n",
       "      <td>61.69</td>\n",
       "      <td>5</td>\n",
       "      <td>0</td>\n",
       "      <td>148.0</td>\n",
       "    </tr>\n",
       "    <tr>\n",
       "      <th>2</th>\n",
       "      <td>2010-01-03 02:00:00</td>\n",
       "      <td>65.0</td>\n",
       "      <td>-8</td>\n",
       "      <td>-7.0</td>\n",
       "      <td>1026.0</td>\n",
       "      <td>SE</td>\n",
       "      <td>65.71</td>\n",
       "      <td>6</td>\n",
       "      <td>0</td>\n",
       "      <td>159.0</td>\n",
       "    </tr>\n",
       "    <tr>\n",
       "      <th>3</th>\n",
       "      <td>2010-01-03 03:00:00</td>\n",
       "      <td>55.0</td>\n",
       "      <td>-8</td>\n",
       "      <td>-7.0</td>\n",
       "      <td>1025.0</td>\n",
       "      <td>SE</td>\n",
       "      <td>68.84</td>\n",
       "      <td>7</td>\n",
       "      <td>0</td>\n",
       "      <td>181.0</td>\n",
       "    </tr>\n",
       "    <tr>\n",
       "      <th>4</th>\n",
       "      <td>2010-01-03 04:00:00</td>\n",
       "      <td>65.0</td>\n",
       "      <td>-8</td>\n",
       "      <td>-7.0</td>\n",
       "      <td>1024.0</td>\n",
       "      <td>SE</td>\n",
       "      <td>72.86</td>\n",
       "      <td>8</td>\n",
       "      <td>0</td>\n",
       "      <td>138.0</td>\n",
       "    </tr>\n",
       "  </tbody>\n",
       "</table>\n",
       "</div>"
      ],
      "text/plain": [
       "                  date  pred_pollution  dew  temp   press wnd_dir  wnd_spd  \\\n",
       "0  2010-01-03 00:00:00            90.0   -7  -6.0  1027.0      SE    58.56   \n",
       "1  2010-01-03 01:00:00            63.0   -8  -6.0  1026.0      SE    61.69   \n",
       "2  2010-01-03 02:00:00            65.0   -8  -7.0  1026.0      SE    65.71   \n",
       "3  2010-01-03 03:00:00            55.0   -8  -7.0  1025.0      SE    68.84   \n",
       "4  2010-01-03 04:00:00            65.0   -8  -7.0  1024.0      SE    72.86   \n",
       "\n",
       "   snow  rain  current_pollution  \n",
       "0     4     0              129.0  \n",
       "1     5     0              148.0  \n",
       "2     6     0              159.0  \n",
       "3     7     0              181.0  \n",
       "4     8     0              138.0  "
      ]
     },
     "execution_count": 51,
     "metadata": {},
     "output_type": "execute_result"
    }
   ],
   "source": [
    "# Load the dataset\n",
    "dataset_path = 'data/air_pollution_dataset_modified.csv'\n",
    "df = pd.read_csv(dataset_path)\n",
    "df.head()"
   ]
  },
  {
   "cell_type": "code",
   "execution_count": 72,
   "metadata": {},
   "outputs": [],
   "source": [
    "# Convert the DataFrame to a stream of dictionaries which is required by River\n",
    "data_stream = stream.iter_csv('data/air_pollution_dataset_modified.csv', target='pred_pollution', \n",
    "                                                                         converters={'current_pollution': float, 'dew': float,\n",
    "                                                                                     'temp': float, 'press': float, \n",
    "                                                                                     'wnd_spd': float, 'snow': float, \n",
    "                                                                                     'rain': float, 'pred_pollution': float})\n"
   ]
  },
  {
   "cell_type": "code",
   "execution_count": 73,
   "metadata": {},
   "outputs": [
    {
     "data": {
      "text/html": [
       "<pre style=\"white-space:pre;overflow-x:auto;line-height:normal;font-family:Menlo,'DejaVu Sans Mono',consolas,'Courier New',monospace\"><span style=\"font-weight: bold\">{</span>\n",
       "    <span style=\"color: #008000; text-decoration-color: #008000\">'date'</span>: <span style=\"color: #008000; text-decoration-color: #008000\">'2010-01-03 00:00:00'</span>,\n",
       "    <span style=\"color: #008000; text-decoration-color: #008000\">'dew'</span>: <span style=\"color: #008080; text-decoration-color: #008080; font-weight: bold\">-7.0</span>,\n",
       "    <span style=\"color: #008000; text-decoration-color: #008000\">'temp'</span>: <span style=\"color: #008080; text-decoration-color: #008080; font-weight: bold\">-6.0</span>,\n",
       "    <span style=\"color: #008000; text-decoration-color: #008000\">'press'</span>: <span style=\"color: #008080; text-decoration-color: #008080; font-weight: bold\">1027.0</span>,\n",
       "    <span style=\"color: #008000; text-decoration-color: #008000\">'wnd_dir'</span>: <span style=\"color: #008000; text-decoration-color: #008000\">'SE'</span>,\n",
       "    <span style=\"color: #008000; text-decoration-color: #008000\">'wnd_spd'</span>: <span style=\"color: #008080; text-decoration-color: #008080; font-weight: bold\">58.56</span>,\n",
       "    <span style=\"color: #008000; text-decoration-color: #008000\">'snow'</span>: <span style=\"color: #008080; text-decoration-color: #008080; font-weight: bold\">4.0</span>,\n",
       "    <span style=\"color: #008000; text-decoration-color: #008000\">'rain'</span>: <span style=\"color: #008080; text-decoration-color: #008080; font-weight: bold\">0.0</span>,\n",
       "    <span style=\"color: #008000; text-decoration-color: #008000\">'current_pollution'</span>: <span style=\"color: #008080; text-decoration-color: #008080; font-weight: bold\">129.0</span>\n",
       "<span style=\"font-weight: bold\">}</span>\n",
       "</pre>\n"
      ],
      "text/plain": [
       "\u001b[1m{\u001b[0m\n",
       "    \u001b[32m'date'\u001b[0m: \u001b[32m'2010-01-03 00:00:00'\u001b[0m,\n",
       "    \u001b[32m'dew'\u001b[0m: \u001b[1;36m-7.0\u001b[0m,\n",
       "    \u001b[32m'temp'\u001b[0m: \u001b[1;36m-6.0\u001b[0m,\n",
       "    \u001b[32m'press'\u001b[0m: \u001b[1;36m1027.0\u001b[0m,\n",
       "    \u001b[32m'wnd_dir'\u001b[0m: \u001b[32m'SE'\u001b[0m,\n",
       "    \u001b[32m'wnd_spd'\u001b[0m: \u001b[1;36m58.56\u001b[0m,\n",
       "    \u001b[32m'snow'\u001b[0m: \u001b[1;36m4.0\u001b[0m,\n",
       "    \u001b[32m'rain'\u001b[0m: \u001b[1;36m0.0\u001b[0m,\n",
       "    \u001b[32m'current_pollution'\u001b[0m: \u001b[1;36m129.0\u001b[0m\n",
       "\u001b[1m}\u001b[0m\n"
      ]
     },
     "metadata": {},
     "output_type": "display_data"
    },
    {
     "data": {
      "text/html": [
       "<pre style=\"white-space:pre;overflow-x:auto;line-height:normal;font-family:Menlo,'DejaVu Sans Mono',consolas,'Courier New',monospace\"><span style=\"color: #008080; text-decoration-color: #008080; font-weight: bold\">90.0</span>\n",
       "</pre>\n"
      ],
      "text/plain": [
       "\u001b[1;36m90.0\u001b[0m\n"
      ]
     },
     "metadata": {},
     "output_type": "display_data"
    }
   ],
   "source": [
    "sample, target = next(data_stream)\n",
    "print(sample)\n",
    "print(target)"
   ]
  },
  {
   "cell_type": "code",
   "execution_count": 95,
   "metadata": {},
   "outputs": [
    {
     "data": {
      "text/html": [
       "<pre style=\"white-space:pre;overflow-x:auto;line-height:normal;font-family:Menlo,'DejaVu Sans Mono',consolas,'Courier New',monospace\"><span style=\"color: #008080; text-decoration-color: #008080; font-weight: bold\">90.0</span>: <span style=\"font-weight: bold\">&lt;</span><span style=\"color: #ff00ff; text-decoration-color: #ff00ff; font-weight: bold\">class</span><span style=\"color: #000000; text-decoration-color: #000000\"> </span><span style=\"color: #008000; text-decoration-color: #008000\">'float'</span><span style=\"font-weight: bold\">&gt;</span>\n",
       "</pre>\n"
      ],
      "text/plain": [
       "\u001b[1;36m90.0\u001b[0m: \u001b[1m<\u001b[0m\u001b[1;95mclass\u001b[0m\u001b[39m \u001b[0m\u001b[32m'float'\u001b[0m\u001b[1m>\u001b[0m\n"
      ]
     },
     "metadata": {},
     "output_type": "display_data"
    }
   ],
   "source": [
    "print(f'{target}: {type(target)}')"
   ]
  },
  {
   "cell_type": "code",
   "execution_count": 74,
   "metadata": {},
   "outputs": [
    {
     "data": {
      "text/html": [
       "<pre style=\"white-space:pre;overflow-x:auto;line-height:normal;font-family:Menlo,'DejaVu Sans Mono',consolas,'Courier New',monospace\">date: <span style=\"font-weight: bold\">&lt;</span><span style=\"color: #ff00ff; text-decoration-color: #ff00ff; font-weight: bold\">class</span><span style=\"color: #000000; text-decoration-color: #000000\"> </span><span style=\"color: #008000; text-decoration-color: #008000\">'str'</span><span style=\"font-weight: bold\">&gt;</span>\n",
       "</pre>\n"
      ],
      "text/plain": [
       "date: \u001b[1m<\u001b[0m\u001b[1;95mclass\u001b[0m\u001b[39m \u001b[0m\u001b[32m'str'\u001b[0m\u001b[1m>\u001b[0m\n"
      ]
     },
     "metadata": {},
     "output_type": "display_data"
    },
    {
     "data": {
      "text/html": [
       "<pre style=\"white-space:pre;overflow-x:auto;line-height:normal;font-family:Menlo,'DejaVu Sans Mono',consolas,'Courier New',monospace\">dew: <span style=\"font-weight: bold\">&lt;</span><span style=\"color: #ff00ff; text-decoration-color: #ff00ff; font-weight: bold\">class</span><span style=\"color: #000000; text-decoration-color: #000000\"> </span><span style=\"color: #008000; text-decoration-color: #008000\">'float'</span><span style=\"font-weight: bold\">&gt;</span>\n",
       "</pre>\n"
      ],
      "text/plain": [
       "dew: \u001b[1m<\u001b[0m\u001b[1;95mclass\u001b[0m\u001b[39m \u001b[0m\u001b[32m'float'\u001b[0m\u001b[1m>\u001b[0m\n"
      ]
     },
     "metadata": {},
     "output_type": "display_data"
    },
    {
     "data": {
      "text/html": [
       "<pre style=\"white-space:pre;overflow-x:auto;line-height:normal;font-family:Menlo,'DejaVu Sans Mono',consolas,'Courier New',monospace\">temp: <span style=\"font-weight: bold\">&lt;</span><span style=\"color: #ff00ff; text-decoration-color: #ff00ff; font-weight: bold\">class</span><span style=\"color: #000000; text-decoration-color: #000000\"> </span><span style=\"color: #008000; text-decoration-color: #008000\">'float'</span><span style=\"font-weight: bold\">&gt;</span>\n",
       "</pre>\n"
      ],
      "text/plain": [
       "temp: \u001b[1m<\u001b[0m\u001b[1;95mclass\u001b[0m\u001b[39m \u001b[0m\u001b[32m'float'\u001b[0m\u001b[1m>\u001b[0m\n"
      ]
     },
     "metadata": {},
     "output_type": "display_data"
    },
    {
     "data": {
      "text/html": [
       "<pre style=\"white-space:pre;overflow-x:auto;line-height:normal;font-family:Menlo,'DejaVu Sans Mono',consolas,'Courier New',monospace\">press: <span style=\"font-weight: bold\">&lt;</span><span style=\"color: #ff00ff; text-decoration-color: #ff00ff; font-weight: bold\">class</span><span style=\"color: #000000; text-decoration-color: #000000\"> </span><span style=\"color: #008000; text-decoration-color: #008000\">'float'</span><span style=\"font-weight: bold\">&gt;</span>\n",
       "</pre>\n"
      ],
      "text/plain": [
       "press: \u001b[1m<\u001b[0m\u001b[1;95mclass\u001b[0m\u001b[39m \u001b[0m\u001b[32m'float'\u001b[0m\u001b[1m>\u001b[0m\n"
      ]
     },
     "metadata": {},
     "output_type": "display_data"
    },
    {
     "data": {
      "text/html": [
       "<pre style=\"white-space:pre;overflow-x:auto;line-height:normal;font-family:Menlo,'DejaVu Sans Mono',consolas,'Courier New',monospace\">wnd_dir: <span style=\"font-weight: bold\">&lt;</span><span style=\"color: #ff00ff; text-decoration-color: #ff00ff; font-weight: bold\">class</span><span style=\"color: #000000; text-decoration-color: #000000\"> </span><span style=\"color: #008000; text-decoration-color: #008000\">'str'</span><span style=\"font-weight: bold\">&gt;</span>\n",
       "</pre>\n"
      ],
      "text/plain": [
       "wnd_dir: \u001b[1m<\u001b[0m\u001b[1;95mclass\u001b[0m\u001b[39m \u001b[0m\u001b[32m'str'\u001b[0m\u001b[1m>\u001b[0m\n"
      ]
     },
     "metadata": {},
     "output_type": "display_data"
    },
    {
     "data": {
      "text/html": [
       "<pre style=\"white-space:pre;overflow-x:auto;line-height:normal;font-family:Menlo,'DejaVu Sans Mono',consolas,'Courier New',monospace\">wnd_spd: <span style=\"font-weight: bold\">&lt;</span><span style=\"color: #ff00ff; text-decoration-color: #ff00ff; font-weight: bold\">class</span><span style=\"color: #000000; text-decoration-color: #000000\"> </span><span style=\"color: #008000; text-decoration-color: #008000\">'float'</span><span style=\"font-weight: bold\">&gt;</span>\n",
       "</pre>\n"
      ],
      "text/plain": [
       "wnd_spd: \u001b[1m<\u001b[0m\u001b[1;95mclass\u001b[0m\u001b[39m \u001b[0m\u001b[32m'float'\u001b[0m\u001b[1m>\u001b[0m\n"
      ]
     },
     "metadata": {},
     "output_type": "display_data"
    },
    {
     "data": {
      "text/html": [
       "<pre style=\"white-space:pre;overflow-x:auto;line-height:normal;font-family:Menlo,'DejaVu Sans Mono',consolas,'Courier New',monospace\">snow: <span style=\"font-weight: bold\">&lt;</span><span style=\"color: #ff00ff; text-decoration-color: #ff00ff; font-weight: bold\">class</span><span style=\"color: #000000; text-decoration-color: #000000\"> </span><span style=\"color: #008000; text-decoration-color: #008000\">'float'</span><span style=\"font-weight: bold\">&gt;</span>\n",
       "</pre>\n"
      ],
      "text/plain": [
       "snow: \u001b[1m<\u001b[0m\u001b[1;95mclass\u001b[0m\u001b[39m \u001b[0m\u001b[32m'float'\u001b[0m\u001b[1m>\u001b[0m\n"
      ]
     },
     "metadata": {},
     "output_type": "display_data"
    },
    {
     "data": {
      "text/html": [
       "<pre style=\"white-space:pre;overflow-x:auto;line-height:normal;font-family:Menlo,'DejaVu Sans Mono',consolas,'Courier New',monospace\">rain: <span style=\"font-weight: bold\">&lt;</span><span style=\"color: #ff00ff; text-decoration-color: #ff00ff; font-weight: bold\">class</span><span style=\"color: #000000; text-decoration-color: #000000\"> </span><span style=\"color: #008000; text-decoration-color: #008000\">'float'</span><span style=\"font-weight: bold\">&gt;</span>\n",
       "</pre>\n"
      ],
      "text/plain": [
       "rain: \u001b[1m<\u001b[0m\u001b[1;95mclass\u001b[0m\u001b[39m \u001b[0m\u001b[32m'float'\u001b[0m\u001b[1m>\u001b[0m\n"
      ]
     },
     "metadata": {},
     "output_type": "display_data"
    },
    {
     "data": {
      "text/html": [
       "<pre style=\"white-space:pre;overflow-x:auto;line-height:normal;font-family:Menlo,'DejaVu Sans Mono',consolas,'Courier New',monospace\">current_pollution: <span style=\"font-weight: bold\">&lt;</span><span style=\"color: #ff00ff; text-decoration-color: #ff00ff; font-weight: bold\">class</span><span style=\"color: #000000; text-decoration-color: #000000\"> </span><span style=\"color: #008000; text-decoration-color: #008000\">'float'</span><span style=\"font-weight: bold\">&gt;</span>\n",
       "</pre>\n"
      ],
      "text/plain": [
       "current_pollution: \u001b[1m<\u001b[0m\u001b[1;95mclass\u001b[0m\u001b[39m \u001b[0m\u001b[32m'float'\u001b[0m\u001b[1m>\u001b[0m\n"
      ]
     },
     "metadata": {},
     "output_type": "display_data"
    }
   ],
   "source": [
    "for element in sample:\n",
    "    print(f'{element}: {type(sample[element])}')"
   ]
  },
  {
   "cell_type": "code",
   "execution_count": 1,
   "metadata": {},
   "outputs": [
    {
     "ename": "AttributeError",
     "evalue": "'str' object has no attribute 'items'",
     "output_type": "error",
     "traceback": [
      "\u001b[0;31m---------------------------------------------------------------------------\u001b[0m",
      "\u001b[0;31mAttributeError\u001b[0m                            Traceback (most recent call last)",
      "Cell \u001b[0;32mIn[1], line 27\u001b[0m\n\u001b[1;32m     21\u001b[0m     \u001b[38;5;28;01mreturn\u001b[39;00m x\n\u001b[1;32m     23\u001b[0m \u001b[38;5;66;03m# Define the pipeline\u001b[39;00m\n\u001b[1;32m     24\u001b[0m model \u001b[38;5;241m=\u001b[39m compose\u001b[38;5;241m.\u001b[39mPipeline(\n\u001b[1;32m     25\u001b[0m     compose\u001b[38;5;241m.\u001b[39mFuncTransformer(get_date_features),  \u001b[38;5;66;03m# Date feature engineering\u001b[39;00m\n\u001b[1;32m     26\u001b[0m     \u001b[38;5;66;03m#compose.Select('wnd_dir'),\u001b[39;00m\n\u001b[0;32m---> 27\u001b[0m     \u001b[43mpreprocessing\u001b[49m\u001b[38;5;241;43m.\u001b[39;49m\u001b[43mOneHotEncoder\u001b[49m\u001b[43m(\u001b[49m\u001b[43mdrop_zeros\u001b[49m\u001b[38;5;241;43m=\u001b[39;49m\u001b[38;5;28;43;01mFalse\u001b[39;49;00m\u001b[43m)\u001b[49m\u001b[38;5;241;43m.\u001b[39;49m\u001b[43mtransform_one\u001b[49m\u001b[43m(\u001b[49m\u001b[38;5;124;43m'\u001b[39;49m\u001b[38;5;124;43mwnd_dir\u001b[39;49m\u001b[38;5;124;43m'\u001b[39;49m\u001b[43m)\u001b[49m,  \u001b[38;5;66;03m# Apply OneHotEncoder only to 'wnd_dir'\u001b[39;00m\n\u001b[1;32m     28\u001b[0m    \u001b[38;5;66;03m# compose.Select('current_pollution', 'dew', 'temp', 'press', 'wnd_spd', 'snow', 'rain', 'hour', 'day_of_week', 'month'),\u001b[39;00m\n\u001b[1;32m     29\u001b[0m     compose\u001b[38;5;241m.\u001b[39mDiscard(\u001b[38;5;124m'\u001b[39m\u001b[38;5;124mdate\u001b[39m\u001b[38;5;124m'\u001b[39m),  \u001b[38;5;66;03m# Discard 'date' feature\u001b[39;00m\n\u001b[1;32m     30\u001b[0m     preprocessing\u001b[38;5;241m.\u001b[39mStandardScaler(),  \u001b[38;5;66;03m# Apply StandardScaler \u001b[39;00m\n\u001b[1;32m     31\u001b[0m     linear_model\u001b[38;5;241m.\u001b[39mLinearRegression()  \u001b[38;5;66;03m# Linear regression model\u001b[39;00m\n\u001b[1;32m     32\u001b[0m )\n\u001b[1;32m     34\u001b[0m \u001b[38;5;66;03m# Print the debug information for the next sample in the data stream\u001b[39;00m\n\u001b[1;32m     35\u001b[0m x, y \u001b[38;5;241m=\u001b[39m \u001b[38;5;28mnext\u001b[39m(data_stream)\n",
      "File \u001b[0;32m/opt/homebrew/Caskroom/miniforge/base/lib/python3.10/site-packages/river/preprocessing/one_hot.py:221\u001b[0m, in \u001b[0;36mOneHotEncoder.transform_one\u001b[0;34m(self, x, y)\u001b[0m\n\u001b[1;32m    218\u001b[0m     oh \u001b[38;5;241m=\u001b[39m {\u001b[38;5;124mf\u001b[39m\u001b[38;5;124m\"\u001b[39m\u001b[38;5;132;01m{\u001b[39;00mi\u001b[38;5;132;01m}\u001b[39;00m\u001b[38;5;124m_\u001b[39m\u001b[38;5;132;01m{\u001b[39;00mv\u001b[38;5;132;01m}\u001b[39;00m\u001b[38;5;124m\"\u001b[39m: \u001b[38;5;241m0\u001b[39m \u001b[38;5;28;01mfor\u001b[39;00m i, values \u001b[38;5;129;01min\u001b[39;00m \u001b[38;5;28mself\u001b[39m\u001b[38;5;241m.\u001b[39mvalues\u001b[38;5;241m.\u001b[39mitems() \u001b[38;5;28;01mfor\u001b[39;00m v \u001b[38;5;129;01min\u001b[39;00m values}\n\u001b[1;32m    220\u001b[0m \u001b[38;5;66;03m# Add 1s\u001b[39;00m\n\u001b[0;32m--> 221\u001b[0m \u001b[38;5;28;01mfor\u001b[39;00m i, xi \u001b[38;5;129;01min\u001b[39;00m \u001b[43mx\u001b[49m\u001b[38;5;241;43m.\u001b[39;49m\u001b[43mitems\u001b[49m():\n\u001b[1;32m    222\u001b[0m     \u001b[38;5;28;01mif\u001b[39;00m \u001b[38;5;28misinstance\u001b[39m(xi, \u001b[38;5;28mlist\u001b[39m) \u001b[38;5;129;01mor\u001b[39;00m \u001b[38;5;28misinstance\u001b[39m(xi, \u001b[38;5;28mset\u001b[39m):\n\u001b[1;32m    223\u001b[0m         \u001b[38;5;28;01mfor\u001b[39;00m xj \u001b[38;5;129;01min\u001b[39;00m xi:\n",
      "\u001b[0;31mAttributeError\u001b[0m: 'str' object has no attribute 'items'"
     ]
    }
   ],
   "source": [
    "mapping = {'SE': 1, 'cv': 2, 'NW': 3, 'NE': 4}\n",
    "converter = lambda x: float(mapping[x])\n",
    "\n",
    "# Convert the DataFrame to a stream of dictionaries which is required by River\n",
    "data_stream = stream.iter_csv('data/air_pollution_dataset_modified.csv', target='pred_pollution', \n",
    "                                                                         converters={'current_pollution': float, 'dew': float,\n",
    "                                                                                     'temp': float, 'press': float, \n",
    "                                                                                     'wnd_spd': float, 'wnd_dir': converter, 'snow': float, \n",
    "                                                                                     'rain': float, 'pred_pollution': float})\n",
    "\n",
    "# Custom function to generate date-related features within the pipeline\n",
    "def get_date_features(x):\n",
    "    date = pd.to_datetime(x['date'])\n",
    "    x['hour'] = date.hour\n",
    "    x['day_of_week'] = date.dayofweek\n",
    "    x['month'] = date.month\n",
    "    return x\n",
    "\n",
    "# Define the pipeline\n",
    "model = compose.Pipeline(\n",
    "    compose.FuncTransformer(get_date_features),  # Date feature engineering\n",
    "    #compose.Select('wnd_dir'),\n",
    "    preprocessing.OneHotEncoder(drop_zeros=False).transform_one('wnd_dir'),  # Apply OneHotEncoder only to 'wnd_dir'\n",
    "   # compose.Select('current_pollution', 'dew', 'temp', 'press', 'wnd_spd', 'snow', 'rain', 'hour', 'day_of_week', 'month'),\n",
    "    compose.Discard('date'),  # Discard 'date' feature\n",
    "    preprocessing.StandardScaler(),  # Apply StandardScaler \n",
    "    linear_model.LinearRegression()  # Linear regression model\n",
    ")\n",
    "\n",
    "# Print the debug information for the next sample in the data stream\n",
    "x, y = next(data_stream)\n",
    "print(model.debug_one(x))\n",
    "\n",
    "# Train the model on the first 120,000 samples from the data stream\n",
    "for x, y in itertools.islice(data_stream, 100):\n",
    "    y_pred = model.predict_one(x)\n",
    "    model.learn_one(x, y)"
   ]
  },
  {
   "cell_type": "code",
   "execution_count": 101,
   "metadata": {},
   "outputs": [
    {
     "data": {
      "text/html": [
       "<pre style=\"white-space:pre;overflow-x:auto;line-height:normal;font-family:Menlo,'DejaVu Sans Mono',consolas,'Courier New',monospace\"><span style=\"color: #008080; text-decoration-color: #008080; font-weight: bold\">0</span>. Input\n",
       "--------\n",
       "current_pollution: <span style=\"color: #008080; text-decoration-color: #008080; font-weight: bold\">28.00000</span> <span style=\"font-weight: bold\">(</span>float<span style=\"font-weight: bold\">)</span>\n",
       "date: <span style=\"color: #008080; text-decoration-color: #008080; font-weight: bold\">2010</span>-<span style=\"color: #008080; text-decoration-color: #008080; font-weight: bold\">01</span>-<span style=\"color: #008080; text-decoration-color: #008080; font-weight: bold\">07</span> <span style=\"color: #00ff00; text-decoration-color: #00ff00; font-weight: bold\">05:00:00</span> <span style=\"font-weight: bold\">(</span>str<span style=\"font-weight: bold\">)</span>\n",
       "dew: <span style=\"color: #008080; text-decoration-color: #008080; font-weight: bold\">-25.00000</span> <span style=\"font-weight: bold\">(</span>float<span style=\"font-weight: bold\">)</span>\n",
       "press: <span style=\"color: #008080; text-decoration-color: #008080; font-weight: bold\">1</span>,<span style=\"color: #008080; text-decoration-color: #008080; font-weight: bold\">035.00000</span> <span style=\"font-weight: bold\">(</span>float<span style=\"font-weight: bold\">)</span>\n",
       "rain: <span style=\"color: #008080; text-decoration-color: #008080; font-weight: bold\">0.00000</span> <span style=\"font-weight: bold\">(</span>float<span style=\"font-weight: bold\">)</span>\n",
       "snow: <span style=\"color: #008080; text-decoration-color: #008080; font-weight: bold\">0.00000</span> <span style=\"font-weight: bold\">(</span>float<span style=\"font-weight: bold\">)</span>\n",
       "temp: <span style=\"color: #008080; text-decoration-color: #008080; font-weight: bold\">-15.00000</span> <span style=\"font-weight: bold\">(</span>float<span style=\"font-weight: bold\">)</span>\n",
       "wnd_dir: <span style=\"color: #008080; text-decoration-color: #008080; font-weight: bold\">3.00000</span> <span style=\"font-weight: bold\">(</span>float<span style=\"font-weight: bold\">)</span>\n",
       "wnd_spd: <span style=\"color: #008080; text-decoration-color: #008080; font-weight: bold\">10.28000</span> <span style=\"font-weight: bold\">(</span>float<span style=\"font-weight: bold\">)</span>\n",
       "\n",
       "<span style=\"color: #008080; text-decoration-color: #008080; font-weight: bold\">1</span>. get_date_features\n",
       "--------------------\n",
       "current_pollution: <span style=\"color: #008080; text-decoration-color: #008080; font-weight: bold\">28.00000</span> <span style=\"font-weight: bold\">(</span>float<span style=\"font-weight: bold\">)</span>\n",
       "date: <span style=\"color: #008080; text-decoration-color: #008080; font-weight: bold\">2010</span>-<span style=\"color: #008080; text-decoration-color: #008080; font-weight: bold\">01</span>-<span style=\"color: #008080; text-decoration-color: #008080; font-weight: bold\">07</span> <span style=\"color: #00ff00; text-decoration-color: #00ff00; font-weight: bold\">05:00:00</span> <span style=\"font-weight: bold\">(</span>str<span style=\"font-weight: bold\">)</span>\n",
       "day_of_week: <span style=\"color: #008080; text-decoration-color: #008080; font-weight: bold\">3</span> <span style=\"font-weight: bold\">(</span>int<span style=\"font-weight: bold\">)</span>\n",
       "dew: <span style=\"color: #008080; text-decoration-color: #008080; font-weight: bold\">-25.00000</span> <span style=\"font-weight: bold\">(</span>float<span style=\"font-weight: bold\">)</span>\n",
       "hour: <span style=\"color: #008080; text-decoration-color: #008080; font-weight: bold\">5</span> <span style=\"font-weight: bold\">(</span>int<span style=\"font-weight: bold\">)</span>\n",
       "month: <span style=\"color: #008080; text-decoration-color: #008080; font-weight: bold\">1</span> <span style=\"font-weight: bold\">(</span>int<span style=\"font-weight: bold\">)</span>\n",
       "press: <span style=\"color: #008080; text-decoration-color: #008080; font-weight: bold\">1</span>,<span style=\"color: #008080; text-decoration-color: #008080; font-weight: bold\">035.00000</span> <span style=\"font-weight: bold\">(</span>float<span style=\"font-weight: bold\">)</span>\n",
       "rain: <span style=\"color: #008080; text-decoration-color: #008080; font-weight: bold\">0.00000</span> <span style=\"font-weight: bold\">(</span>float<span style=\"font-weight: bold\">)</span>\n",
       "snow: <span style=\"color: #008080; text-decoration-color: #008080; font-weight: bold\">0.00000</span> <span style=\"font-weight: bold\">(</span>float<span style=\"font-weight: bold\">)</span>\n",
       "temp: <span style=\"color: #008080; text-decoration-color: #008080; font-weight: bold\">-15.00000</span> <span style=\"font-weight: bold\">(</span>float<span style=\"font-weight: bold\">)</span>\n",
       "wnd_dir: <span style=\"color: #008080; text-decoration-color: #008080; font-weight: bold\">3.00000</span> <span style=\"font-weight: bold\">(</span>float<span style=\"font-weight: bold\">)</span>\n",
       "wnd_spd: <span style=\"color: #008080; text-decoration-color: #008080; font-weight: bold\">10.28000</span> <span style=\"font-weight: bold\">(</span>float<span style=\"font-weight: bold\">)</span>\n",
       "\n",
       "<span style=\"color: #008080; text-decoration-color: #008080; font-weight: bold\">2</span>. ~<span style=\"font-weight: bold\">[</span><span style=\"color: #008000; text-decoration-color: #008000\">'date'</span><span style=\"font-weight: bold\">]</span>\n",
       "------------\n",
       "current_pollution: <span style=\"color: #008080; text-decoration-color: #008080; font-weight: bold\">28.00000</span> <span style=\"font-weight: bold\">(</span>float<span style=\"font-weight: bold\">)</span>\n",
       "day_of_week: <span style=\"color: #008080; text-decoration-color: #008080; font-weight: bold\">3</span> <span style=\"font-weight: bold\">(</span>int<span style=\"font-weight: bold\">)</span>\n",
       "dew: <span style=\"color: #008080; text-decoration-color: #008080; font-weight: bold\">-25.00000</span> <span style=\"font-weight: bold\">(</span>float<span style=\"font-weight: bold\">)</span>\n",
       "hour: <span style=\"color: #008080; text-decoration-color: #008080; font-weight: bold\">5</span> <span style=\"font-weight: bold\">(</span>int<span style=\"font-weight: bold\">)</span>\n",
       "month: <span style=\"color: #008080; text-decoration-color: #008080; font-weight: bold\">1</span> <span style=\"font-weight: bold\">(</span>int<span style=\"font-weight: bold\">)</span>\n",
       "press: <span style=\"color: #008080; text-decoration-color: #008080; font-weight: bold\">1</span>,<span style=\"color: #008080; text-decoration-color: #008080; font-weight: bold\">035.00000</span> <span style=\"font-weight: bold\">(</span>float<span style=\"font-weight: bold\">)</span>\n",
       "rain: <span style=\"color: #008080; text-decoration-color: #008080; font-weight: bold\">0.00000</span> <span style=\"font-weight: bold\">(</span>float<span style=\"font-weight: bold\">)</span>\n",
       "snow: <span style=\"color: #008080; text-decoration-color: #008080; font-weight: bold\">0.00000</span> <span style=\"font-weight: bold\">(</span>float<span style=\"font-weight: bold\">)</span>\n",
       "temp: <span style=\"color: #008080; text-decoration-color: #008080; font-weight: bold\">-15.00000</span> <span style=\"font-weight: bold\">(</span>float<span style=\"font-weight: bold\">)</span>\n",
       "wnd_dir: <span style=\"color: #008080; text-decoration-color: #008080; font-weight: bold\">3.00000</span> <span style=\"font-weight: bold\">(</span>float<span style=\"font-weight: bold\">)</span>\n",
       "wnd_spd: <span style=\"color: #008080; text-decoration-color: #008080; font-weight: bold\">10.28000</span> <span style=\"font-weight: bold\">(</span>float<span style=\"font-weight: bold\">)</span>\n",
       "\n",
       "<span style=\"color: #008080; text-decoration-color: #008080; font-weight: bold\">3</span>. StandardScaler\n",
       "-----------------\n",
       "current_pollution: <span style=\"color: #008080; text-decoration-color: #008080; font-weight: bold\">-0.95761</span> <span style=\"font-weight: bold\">(</span>float<span style=\"font-weight: bold\">)</span>\n",
       "day_of_week: <span style=\"color: #008080; text-decoration-color: #008080; font-weight: bold\">0.33994</span> <span style=\"font-weight: bold\">(</span>float<span style=\"font-weight: bold\">)</span>\n",
       "dew: <span style=\"color: #008080; text-decoration-color: #008080; font-weight: bold\">-0.84147</span> <span style=\"font-weight: bold\">(</span>float<span style=\"font-weight: bold\">)</span>\n",
       "hour: <span style=\"color: #008080; text-decoration-color: #008080; font-weight: bold\">-0.87571</span> <span style=\"font-weight: bold\">(</span>float<span style=\"font-weight: bold\">)</span>\n",
       "month: <span style=\"color: #008080; text-decoration-color: #008080; font-weight: bold\">0.00000</span> <span style=\"font-weight: bold\">(</span>float<span style=\"font-weight: bold\">)</span>\n",
       "press: <span style=\"color: #008080; text-decoration-color: #008080; font-weight: bold\">0.95948</span> <span style=\"font-weight: bold\">(</span>float<span style=\"font-weight: bold\">)</span>\n",
       "rain: <span style=\"color: #008080; text-decoration-color: #008080; font-weight: bold\">0.00000</span> <span style=\"font-weight: bold\">(</span>float<span style=\"font-weight: bold\">)</span>\n",
       "snow: <span style=\"color: #008080; text-decoration-color: #008080; font-weight: bold\">-0.46368</span> <span style=\"font-weight: bold\">(</span>float<span style=\"font-weight: bold\">)</span>\n",
       "temp: <span style=\"color: #008080; text-decoration-color: #008080; font-weight: bold\">-0.96656</span> <span style=\"font-weight: bold\">(</span>float<span style=\"font-weight: bold\">)</span>\n",
       "wnd_dir: <span style=\"color: #008080; text-decoration-color: #008080; font-weight: bold\">0.20851</span> <span style=\"font-weight: bold\">(</span>float<span style=\"font-weight: bold\">)</span>\n",
       "wnd_spd: <span style=\"color: #008080; text-decoration-color: #008080; font-weight: bold\">-0.80726</span> <span style=\"font-weight: bold\">(</span>float<span style=\"font-weight: bold\">)</span>\n",
       "\n",
       "<span style=\"color: #008080; text-decoration-color: #008080; font-weight: bold\">4</span>. LinearRegression\n",
       "-------------------\n",
       "Name                Value      Weight      Contribution  \n",
       "        Intercept    <span style=\"color: #008080; text-decoration-color: #008080; font-weight: bold\">1.00000</span>    <span style=\"color: #008080; text-decoration-color: #008080; font-weight: bold\">26.93467</span>       <span style=\"color: #008080; text-decoration-color: #008080; font-weight: bold\">26.93467</span>  \n",
       "             temp   <span style=\"color: #008080; text-decoration-color: #008080; font-weight: bold\">-0.96656</span>   <span style=\"color: #008080; text-decoration-color: #008080; font-weight: bold\">-15.55908</span>       <span style=\"color: #008080; text-decoration-color: #008080; font-weight: bold\">15.03873</span>  \n",
       "              dew   <span style=\"color: #008080; text-decoration-color: #008080; font-weight: bold\">-0.84147</span>   <span style=\"color: #008080; text-decoration-color: #008080; font-weight: bold\">-13.40999</span>       <span style=\"color: #008080; text-decoration-color: #008080; font-weight: bold\">11.28416</span>  \n",
       "          wnd_spd   <span style=\"color: #008080; text-decoration-color: #008080; font-weight: bold\">-0.80726</span>   <span style=\"color: #008080; text-decoration-color: #008080; font-weight: bold\">-13.41292</span>       <span style=\"color: #008080; text-decoration-color: #008080; font-weight: bold\">10.82766</span>  \n",
       "current_pollution   <span style=\"color: #008080; text-decoration-color: #008080; font-weight: bold\">-0.95761</span>    <span style=\"color: #008080; text-decoration-color: #008080; font-weight: bold\">-6.70698</span>        <span style=\"color: #008080; text-decoration-color: #008080; font-weight: bold\">6.42264</span>  \n",
       "            press    <span style=\"color: #008080; text-decoration-color: #008080; font-weight: bold\">0.95948</span>     <span style=\"color: #008080; text-decoration-color: #008080; font-weight: bold\">3.25861</span>        <span style=\"color: #008080; text-decoration-color: #008080; font-weight: bold\">3.12656</span>  \n",
       "          wnd_dir    <span style=\"color: #008080; text-decoration-color: #008080; font-weight: bold\">0.20851</span>     <span style=\"color: #008080; text-decoration-color: #008080; font-weight: bold\">9.02007</span>        <span style=\"color: #008080; text-decoration-color: #008080; font-weight: bold\">1.88081</span>  \n",
       "            month    <span style=\"color: #008080; text-decoration-color: #008080; font-weight: bold\">0.00000</span>     <span style=\"color: #008080; text-decoration-color: #008080; font-weight: bold\">0.00000</span>        <span style=\"color: #008080; text-decoration-color: #008080; font-weight: bold\">0.00000</span>  \n",
       "             rain    <span style=\"color: #008080; text-decoration-color: #008080; font-weight: bold\">0.00000</span>     <span style=\"color: #008080; text-decoration-color: #008080; font-weight: bold\">0.00000</span>        <span style=\"color: #008080; text-decoration-color: #008080; font-weight: bold\">0.00000</span>  \n",
       "             snow   <span style=\"color: #008080; text-decoration-color: #008080; font-weight: bold\">-0.46368</span>     <span style=\"color: #008080; text-decoration-color: #008080; font-weight: bold\">1.60857</span>       <span style=\"color: #008080; text-decoration-color: #008080; font-weight: bold\">-0.74586</span>  \n",
       "      day_of_week    <span style=\"color: #008080; text-decoration-color: #008080; font-weight: bold\">0.33994</span>    <span style=\"color: #008080; text-decoration-color: #008080; font-weight: bold\">-3.12123</span>       <span style=\"color: #008080; text-decoration-color: #008080; font-weight: bold\">-1.06104</span>  \n",
       "             hour   <span style=\"color: #008080; text-decoration-color: #008080; font-weight: bold\">-0.87571</span>    <span style=\"color: #008080; text-decoration-color: #008080; font-weight: bold\">17.78276</span>      <span style=\"color: #008080; text-decoration-color: #008080; font-weight: bold\">-15.57255</span>  \n",
       "\n",
       "Prediction: <span style=\"color: #008080; text-decoration-color: #008080; font-weight: bold\">58.13580</span>\n",
       "</pre>\n"
      ],
      "text/plain": [
       "\u001b[1;36m0\u001b[0m. Input\n",
       "--------\n",
       "current_pollution: \u001b[1;36m28.00000\u001b[0m \u001b[1m(\u001b[0mfloat\u001b[1m)\u001b[0m\n",
       "date: \u001b[1;36m2010\u001b[0m-\u001b[1;36m01\u001b[0m-\u001b[1;36m07\u001b[0m \u001b[1;92m05:00:00\u001b[0m \u001b[1m(\u001b[0mstr\u001b[1m)\u001b[0m\n",
       "dew: \u001b[1;36m-25.00000\u001b[0m \u001b[1m(\u001b[0mfloat\u001b[1m)\u001b[0m\n",
       "press: \u001b[1;36m1\u001b[0m,\u001b[1;36m035.00000\u001b[0m \u001b[1m(\u001b[0mfloat\u001b[1m)\u001b[0m\n",
       "rain: \u001b[1;36m0.00000\u001b[0m \u001b[1m(\u001b[0mfloat\u001b[1m)\u001b[0m\n",
       "snow: \u001b[1;36m0.00000\u001b[0m \u001b[1m(\u001b[0mfloat\u001b[1m)\u001b[0m\n",
       "temp: \u001b[1;36m-15.00000\u001b[0m \u001b[1m(\u001b[0mfloat\u001b[1m)\u001b[0m\n",
       "wnd_dir: \u001b[1;36m3.00000\u001b[0m \u001b[1m(\u001b[0mfloat\u001b[1m)\u001b[0m\n",
       "wnd_spd: \u001b[1;36m10.28000\u001b[0m \u001b[1m(\u001b[0mfloat\u001b[1m)\u001b[0m\n",
       "\n",
       "\u001b[1;36m1\u001b[0m. get_date_features\n",
       "--------------------\n",
       "current_pollution: \u001b[1;36m28.00000\u001b[0m \u001b[1m(\u001b[0mfloat\u001b[1m)\u001b[0m\n",
       "date: \u001b[1;36m2010\u001b[0m-\u001b[1;36m01\u001b[0m-\u001b[1;36m07\u001b[0m \u001b[1;92m05:00:00\u001b[0m \u001b[1m(\u001b[0mstr\u001b[1m)\u001b[0m\n",
       "day_of_week: \u001b[1;36m3\u001b[0m \u001b[1m(\u001b[0mint\u001b[1m)\u001b[0m\n",
       "dew: \u001b[1;36m-25.00000\u001b[0m \u001b[1m(\u001b[0mfloat\u001b[1m)\u001b[0m\n",
       "hour: \u001b[1;36m5\u001b[0m \u001b[1m(\u001b[0mint\u001b[1m)\u001b[0m\n",
       "month: \u001b[1;36m1\u001b[0m \u001b[1m(\u001b[0mint\u001b[1m)\u001b[0m\n",
       "press: \u001b[1;36m1\u001b[0m,\u001b[1;36m035.00000\u001b[0m \u001b[1m(\u001b[0mfloat\u001b[1m)\u001b[0m\n",
       "rain: \u001b[1;36m0.00000\u001b[0m \u001b[1m(\u001b[0mfloat\u001b[1m)\u001b[0m\n",
       "snow: \u001b[1;36m0.00000\u001b[0m \u001b[1m(\u001b[0mfloat\u001b[1m)\u001b[0m\n",
       "temp: \u001b[1;36m-15.00000\u001b[0m \u001b[1m(\u001b[0mfloat\u001b[1m)\u001b[0m\n",
       "wnd_dir: \u001b[1;36m3.00000\u001b[0m \u001b[1m(\u001b[0mfloat\u001b[1m)\u001b[0m\n",
       "wnd_spd: \u001b[1;36m10.28000\u001b[0m \u001b[1m(\u001b[0mfloat\u001b[1m)\u001b[0m\n",
       "\n",
       "\u001b[1;36m2\u001b[0m. ~\u001b[1m[\u001b[0m\u001b[32m'date'\u001b[0m\u001b[1m]\u001b[0m\n",
       "------------\n",
       "current_pollution: \u001b[1;36m28.00000\u001b[0m \u001b[1m(\u001b[0mfloat\u001b[1m)\u001b[0m\n",
       "day_of_week: \u001b[1;36m3\u001b[0m \u001b[1m(\u001b[0mint\u001b[1m)\u001b[0m\n",
       "dew: \u001b[1;36m-25.00000\u001b[0m \u001b[1m(\u001b[0mfloat\u001b[1m)\u001b[0m\n",
       "hour: \u001b[1;36m5\u001b[0m \u001b[1m(\u001b[0mint\u001b[1m)\u001b[0m\n",
       "month: \u001b[1;36m1\u001b[0m \u001b[1m(\u001b[0mint\u001b[1m)\u001b[0m\n",
       "press: \u001b[1;36m1\u001b[0m,\u001b[1;36m035.00000\u001b[0m \u001b[1m(\u001b[0mfloat\u001b[1m)\u001b[0m\n",
       "rain: \u001b[1;36m0.00000\u001b[0m \u001b[1m(\u001b[0mfloat\u001b[1m)\u001b[0m\n",
       "snow: \u001b[1;36m0.00000\u001b[0m \u001b[1m(\u001b[0mfloat\u001b[1m)\u001b[0m\n",
       "temp: \u001b[1;36m-15.00000\u001b[0m \u001b[1m(\u001b[0mfloat\u001b[1m)\u001b[0m\n",
       "wnd_dir: \u001b[1;36m3.00000\u001b[0m \u001b[1m(\u001b[0mfloat\u001b[1m)\u001b[0m\n",
       "wnd_spd: \u001b[1;36m10.28000\u001b[0m \u001b[1m(\u001b[0mfloat\u001b[1m)\u001b[0m\n",
       "\n",
       "\u001b[1;36m3\u001b[0m. StandardScaler\n",
       "-----------------\n",
       "current_pollution: \u001b[1;36m-0.95761\u001b[0m \u001b[1m(\u001b[0mfloat\u001b[1m)\u001b[0m\n",
       "day_of_week: \u001b[1;36m0.33994\u001b[0m \u001b[1m(\u001b[0mfloat\u001b[1m)\u001b[0m\n",
       "dew: \u001b[1;36m-0.84147\u001b[0m \u001b[1m(\u001b[0mfloat\u001b[1m)\u001b[0m\n",
       "hour: \u001b[1;36m-0.87571\u001b[0m \u001b[1m(\u001b[0mfloat\u001b[1m)\u001b[0m\n",
       "month: \u001b[1;36m0.00000\u001b[0m \u001b[1m(\u001b[0mfloat\u001b[1m)\u001b[0m\n",
       "press: \u001b[1;36m0.95948\u001b[0m \u001b[1m(\u001b[0mfloat\u001b[1m)\u001b[0m\n",
       "rain: \u001b[1;36m0.00000\u001b[0m \u001b[1m(\u001b[0mfloat\u001b[1m)\u001b[0m\n",
       "snow: \u001b[1;36m-0.46368\u001b[0m \u001b[1m(\u001b[0mfloat\u001b[1m)\u001b[0m\n",
       "temp: \u001b[1;36m-0.96656\u001b[0m \u001b[1m(\u001b[0mfloat\u001b[1m)\u001b[0m\n",
       "wnd_dir: \u001b[1;36m0.20851\u001b[0m \u001b[1m(\u001b[0mfloat\u001b[1m)\u001b[0m\n",
       "wnd_spd: \u001b[1;36m-0.80726\u001b[0m \u001b[1m(\u001b[0mfloat\u001b[1m)\u001b[0m\n",
       "\n",
       "\u001b[1;36m4\u001b[0m. LinearRegression\n",
       "-------------------\n",
       "Name                Value      Weight      Contribution  \n",
       "        Intercept    \u001b[1;36m1.00000\u001b[0m    \u001b[1;36m26.93467\u001b[0m       \u001b[1;36m26.93467\u001b[0m  \n",
       "             temp   \u001b[1;36m-0.96656\u001b[0m   \u001b[1;36m-15.55908\u001b[0m       \u001b[1;36m15.03873\u001b[0m  \n",
       "              dew   \u001b[1;36m-0.84147\u001b[0m   \u001b[1;36m-13.40999\u001b[0m       \u001b[1;36m11.28416\u001b[0m  \n",
       "          wnd_spd   \u001b[1;36m-0.80726\u001b[0m   \u001b[1;36m-13.41292\u001b[0m       \u001b[1;36m10.82766\u001b[0m  \n",
       "current_pollution   \u001b[1;36m-0.95761\u001b[0m    \u001b[1;36m-6.70698\u001b[0m        \u001b[1;36m6.42264\u001b[0m  \n",
       "            press    \u001b[1;36m0.95948\u001b[0m     \u001b[1;36m3.25861\u001b[0m        \u001b[1;36m3.12656\u001b[0m  \n",
       "          wnd_dir    \u001b[1;36m0.20851\u001b[0m     \u001b[1;36m9.02007\u001b[0m        \u001b[1;36m1.88081\u001b[0m  \n",
       "            month    \u001b[1;36m0.00000\u001b[0m     \u001b[1;36m0.00000\u001b[0m        \u001b[1;36m0.00000\u001b[0m  \n",
       "             rain    \u001b[1;36m0.00000\u001b[0m     \u001b[1;36m0.00000\u001b[0m        \u001b[1;36m0.00000\u001b[0m  \n",
       "             snow   \u001b[1;36m-0.46368\u001b[0m     \u001b[1;36m1.60857\u001b[0m       \u001b[1;36m-0.74586\u001b[0m  \n",
       "      day_of_week    \u001b[1;36m0.33994\u001b[0m    \u001b[1;36m-3.12123\u001b[0m       \u001b[1;36m-1.06104\u001b[0m  \n",
       "             hour   \u001b[1;36m-0.87571\u001b[0m    \u001b[1;36m17.78276\u001b[0m      \u001b[1;36m-15.57255\u001b[0m  \n",
       "\n",
       "Prediction: \u001b[1;36m58.13580\u001b[0m\n"
      ]
     },
     "metadata": {},
     "output_type": "display_data"
    }
   ],
   "source": [
    "# Print the debug information for the next sample in the data stream\n",
    "x, y = next(data_stream)\n",
    "print(model.debug_one(x))"
   ]
  },
  {
   "cell_type": "code",
   "execution_count": 105,
   "metadata": {},
   "outputs": [
    {
     "name": "stdout",
     "output_type": "stream",
     "text": [
      "[1,000] MAE: 613,474,559.302795\n",
      "[2,000] MAE: 495,832,432.6813\n",
      "[3,000] MAE: 361,017,229.806658\n",
      "[4,000] MAE: 276,392,602.328032\n",
      "[5,000] MAE: 238,576,293.169086\n",
      "[6,000] MAE: 202,890,110.063795\n",
      "[7,000] MAE: 176,317,804.002172\n",
      "[8,000] MAE: 155,164,928.730598\n",
      "[9,000] MAE: 138,594,335.887753\n",
      "[10,000] MAE: 2,567,032,585.538325\n",
      "[11,000] MAE: 2,386,567,684.59802\n",
      "[12,000] MAE: 2,213,516,921.580844\n"
     ]
    },
    {
     "ename": "KeyboardInterrupt",
     "evalue": "",
     "output_type": "error",
     "traceback": [
      "\u001b[0;31m---------------------------------------------------------------------------\u001b[0m",
      "\u001b[0;31mKeyboardInterrupt\u001b[0m                         Traceback (most recent call last)",
      "Cell \u001b[0;32mIn[105], line 3\u001b[0m\n\u001b[1;32m      1\u001b[0m \u001b[38;5;66;03m# Evaluate the model using progressive validation\u001b[39;00m\n\u001b[1;32m      2\u001b[0m metric \u001b[38;5;241m=\u001b[39m metrics\u001b[38;5;241m.\u001b[39mMAE()\n\u001b[0;32m----> 3\u001b[0m results \u001b[38;5;241m=\u001b[39m \u001b[43mevaluate\u001b[49m\u001b[38;5;241;43m.\u001b[39;49m\u001b[43mprogressive_val_score\u001b[49m\u001b[43m(\u001b[49m\u001b[43mdataset\u001b[49m\u001b[38;5;241;43m=\u001b[39;49m\u001b[43mdata_stream\u001b[49m\u001b[43m,\u001b[49m\u001b[43m \u001b[49m\u001b[43mmodel\u001b[49m\u001b[38;5;241;43m=\u001b[39;49m\u001b[43mmodel\u001b[49m\u001b[43m,\u001b[49m\u001b[43m \u001b[49m\u001b[43mmetric\u001b[49m\u001b[38;5;241;43m=\u001b[39;49m\u001b[43mmetrics\u001b[49m\u001b[38;5;241;43m.\u001b[39;49m\u001b[43mMAE\u001b[49m\u001b[43m(\u001b[49m\u001b[43m)\u001b[49m\u001b[43m,\u001b[49m\u001b[43m \u001b[49m\u001b[43mprint_every\u001b[49m\u001b[38;5;241;43m=\u001b[39;49m\u001b[38;5;241;43m1000\u001b[39;49m\u001b[43m)\u001b[49m\n\u001b[1;32m      5\u001b[0m \u001b[38;5;28mprint\u001b[39m(results)\n",
      "File \u001b[0;32m/opt/homebrew/Caskroom/miniforge/base/lib/python3.10/site-packages/river/evaluate/progressive_validation.py:399\u001b[0m, in \u001b[0;36mprogressive_val_score\u001b[0;34m(dataset, model, metric, moment, delay, print_every, show_time, show_memory, **print_kwargs)\u001b[0m\n\u001b[1;32m    386\u001b[0m checkpoints \u001b[38;5;241m=\u001b[39m iter_progressive_val_score(\n\u001b[1;32m    387\u001b[0m     dataset\u001b[38;5;241m=\u001b[39mdataset,\n\u001b[1;32m    388\u001b[0m     model\u001b[38;5;241m=\u001b[39mmodel,\n\u001b[0;32m   (...)\u001b[0m\n\u001b[1;32m    394\u001b[0m     measure_memory\u001b[38;5;241m=\u001b[39mshow_memory,\n\u001b[1;32m    395\u001b[0m )\n\u001b[1;32m    397\u001b[0m active_learning \u001b[38;5;241m=\u001b[39m utils\u001b[38;5;241m.\u001b[39minspect\u001b[38;5;241m.\u001b[39misactivelearner(model)\n\u001b[0;32m--> 399\u001b[0m \u001b[38;5;28;01mfor\u001b[39;00m checkpoint \u001b[38;5;129;01min\u001b[39;00m checkpoints:\n\u001b[1;32m    400\u001b[0m     msg \u001b[38;5;241m=\u001b[39m \u001b[38;5;124mf\u001b[39m\u001b[38;5;124m\"\u001b[39m\u001b[38;5;124m[\u001b[39m\u001b[38;5;132;01m{\u001b[39;00mcheckpoint[\u001b[38;5;124m'\u001b[39m\u001b[38;5;124mStep\u001b[39m\u001b[38;5;124m'\u001b[39m]\u001b[38;5;132;01m:\u001b[39;00m\u001b[38;5;124m,d\u001b[39m\u001b[38;5;132;01m}\u001b[39;00m\u001b[38;5;124m] \u001b[39m\u001b[38;5;132;01m{\u001b[39;00mmetric\u001b[38;5;132;01m}\u001b[39;00m\u001b[38;5;124m\"\u001b[39m\n\u001b[1;32m    401\u001b[0m     \u001b[38;5;28;01mif\u001b[39;00m active_learning:\n",
      "File \u001b[0;32m/opt/homebrew/Caskroom/miniforge/base/lib/python3.10/site-packages/river/evaluate/progressive_validation.py:220\u001b[0m, in \u001b[0;36miter_progressive_val_score\u001b[0;34m(dataset, model, metric, moment, delay, step, measure_time, measure_memory, yield_predictions)\u001b[0m\n\u001b[1;32m    108\u001b[0m \u001b[38;5;28;01mdef\u001b[39;00m \u001b[38;5;21miter_progressive_val_score\u001b[39m(\n\u001b[1;32m    109\u001b[0m     dataset: base\u001b[38;5;241m.\u001b[39mtyping\u001b[38;5;241m.\u001b[39mDataset,\n\u001b[1;32m    110\u001b[0m     model,\n\u001b[0;32m   (...)\u001b[0m\n\u001b[1;32m    117\u001b[0m     yield_predictions\u001b[38;5;241m=\u001b[39m\u001b[38;5;28;01mFalse\u001b[39;00m,\n\u001b[1;32m    118\u001b[0m ) \u001b[38;5;241m-\u001b[39m\u001b[38;5;241m>\u001b[39m typing\u001b[38;5;241m.\u001b[39mGenerator:\n\u001b[1;32m    119\u001b[0m \u001b[38;5;250m    \u001b[39m\u001b[38;5;124;03m\"\"\"Evaluates the performance of a model on a streaming dataset and yields results.\u001b[39;00m\n\u001b[1;32m    120\u001b[0m \n\u001b[1;32m    121\u001b[0m \u001b[38;5;124;03m    This does exactly the same as `evaluate.progressive_val_score`. The only difference is that\u001b[39;00m\n\u001b[0;32m   (...)\u001b[0m\n\u001b[1;32m    217\u001b[0m \n\u001b[1;32m    218\u001b[0m \u001b[38;5;124;03m    \"\"\"\u001b[39;00m\n\u001b[0;32m--> 220\u001b[0m     \u001b[38;5;28;01myield from\u001b[39;00m _progressive_validation(\n\u001b[1;32m    221\u001b[0m         dataset,\n\u001b[1;32m    222\u001b[0m         model,\n\u001b[1;32m    223\u001b[0m         metric,\n\u001b[1;32m    224\u001b[0m         checkpoints\u001b[38;5;241m=\u001b[39mitertools\u001b[38;5;241m.\u001b[39mcount(step, step) \u001b[38;5;28;01mif\u001b[39;00m step \u001b[38;5;28;01melse\u001b[39;00m \u001b[38;5;28miter\u001b[39m([]),\n\u001b[1;32m    225\u001b[0m         moment\u001b[38;5;241m=\u001b[39mmoment,\n\u001b[1;32m    226\u001b[0m         delay\u001b[38;5;241m=\u001b[39mdelay,\n\u001b[1;32m    227\u001b[0m         measure_time\u001b[38;5;241m=\u001b[39mmeasure_time,\n\u001b[1;32m    228\u001b[0m         measure_memory\u001b[38;5;241m=\u001b[39mmeasure_memory,\n\u001b[1;32m    229\u001b[0m         yield_predictions\u001b[38;5;241m=\u001b[39myield_predictions,\n\u001b[1;32m    230\u001b[0m     )\n",
      "File \u001b[0;32m/opt/homebrew/Caskroom/miniforge/base/lib/python3.10/site-packages/river/evaluate/progressive_validation.py:74\u001b[0m, in \u001b[0;36m_progressive_validation\u001b[0;34m(dataset, model, metric, checkpoints, moment, delay, measure_time, measure_memory, yield_predictions)\u001b[0m\n\u001b[1;32m     72\u001b[0m \u001b[38;5;66;03m# Case 1: no ground truth, just make a prediction\u001b[39;00m\n\u001b[1;32m     73\u001b[0m \u001b[38;5;28;01mif\u001b[39;00m y \u001b[38;5;129;01mis\u001b[39;00m \u001b[38;5;28;01mNone\u001b[39;00m:\n\u001b[0;32m---> 74\u001b[0m     y_pred \u001b[38;5;241m=\u001b[39m \u001b[43mpred_func\u001b[49m\u001b[43m(\u001b[49m\u001b[43mx\u001b[49m\u001b[43m,\u001b[49m\u001b[43m \u001b[49m\u001b[38;5;241;43m*\u001b[39;49m\u001b[38;5;241;43m*\u001b[39;49m\u001b[43mkwargs\u001b[49m\u001b[43m)\u001b[49m\n\u001b[1;32m     75\u001b[0m     y_pred, ask_for_label \u001b[38;5;241m=\u001b[39m y_pred \u001b[38;5;28;01mif\u001b[39;00m active_learning \u001b[38;5;28;01melse\u001b[39;00m (y_pred, \u001b[38;5;28;01mTrue\u001b[39;00m)\n\u001b[1;32m     76\u001b[0m     \u001b[38;5;28;01mif\u001b[39;00m utils\u001b[38;5;241m.\u001b[39minspect\u001b[38;5;241m.\u001b[39misanomalyfilter(model):\n",
      "File \u001b[0;32m/opt/homebrew/Caskroom/miniforge/base/lib/python3.10/site-packages/river/compose/pipeline.py:533\u001b[0m, in \u001b[0;36mPipeline.predict_one\u001b[0;34m(self, x, **params)\u001b[0m\n\u001b[1;32m    524\u001b[0m \u001b[38;5;28;01mdef\u001b[39;00m \u001b[38;5;21mpredict_one\u001b[39m(\u001b[38;5;28mself\u001b[39m, x: \u001b[38;5;28mdict\u001b[39m, \u001b[38;5;241m*\u001b[39m\u001b[38;5;241m*\u001b[39mparams):\n\u001b[1;32m    525\u001b[0m \u001b[38;5;250m    \u001b[39m\u001b[38;5;124;03m\"\"\"Call `transform_one` on the first steps and `predict_one` on the last step.\u001b[39;00m\n\u001b[1;32m    526\u001b[0m \n\u001b[1;32m    527\u001b[0m \u001b[38;5;124;03m    Parameters\u001b[39;00m\n\u001b[0;32m   (...)\u001b[0m\n\u001b[1;32m    531\u001b[0m \n\u001b[1;32m    532\u001b[0m \u001b[38;5;124;03m    \"\"\"\u001b[39;00m\n\u001b[0;32m--> 533\u001b[0m     x, last_step \u001b[38;5;241m=\u001b[39m \u001b[38;5;28;43mself\u001b[39;49m\u001b[38;5;241;43m.\u001b[39;49m\u001b[43m_transform_one\u001b[49m\u001b[43m(\u001b[49m\u001b[43mx\u001b[49m\u001b[43m)\u001b[49m\n\u001b[1;32m    534\u001b[0m     \u001b[38;5;28;01mreturn\u001b[39;00m last_step\u001b[38;5;241m.\u001b[39mpredict_one(x, \u001b[38;5;241m*\u001b[39m\u001b[38;5;241m*\u001b[39mparams)\n",
      "File \u001b[0;32m/opt/homebrew/Caskroom/miniforge/base/lib/python3.10/site-packages/river/compose/pipeline.py:504\u001b[0m, in \u001b[0;36mPipeline._transform_one\u001b[0;34m(self, x)\u001b[0m\n\u001b[1;32m    501\u001b[0m         \u001b[38;5;28;01melif\u001b[39;00m \u001b[38;5;129;01mnot\u001b[39;00m t\u001b[38;5;241m.\u001b[39m_supervised:\n\u001b[1;32m    502\u001b[0m             t\u001b[38;5;241m.\u001b[39mlearn_one(x)\n\u001b[0;32m--> 504\u001b[0m     x \u001b[38;5;241m=\u001b[39m \u001b[43mt\u001b[49m\u001b[38;5;241;43m.\u001b[39;49m\u001b[43mtransform_one\u001b[49m\u001b[43m(\u001b[49m\u001b[43mx\u001b[49m\u001b[43m)\u001b[49m\n\u001b[1;32m    506\u001b[0m last_step \u001b[38;5;241m=\u001b[39m \u001b[38;5;28mnext\u001b[39m(steps)\n\u001b[1;32m    507\u001b[0m \u001b[38;5;28;01mreturn\u001b[39;00m x, last_step\n",
      "File \u001b[0;32m/opt/homebrew/Caskroom/miniforge/base/lib/python3.10/site-packages/river/compose/func.py:99\u001b[0m, in \u001b[0;36mFuncTransformer.transform_one\u001b[0;34m(self, x)\u001b[0m\n\u001b[1;32m     98\u001b[0m \u001b[38;5;28;01mdef\u001b[39;00m \u001b[38;5;21mtransform_one\u001b[39m(\u001b[38;5;28mself\u001b[39m, x):\n\u001b[0;32m---> 99\u001b[0m     \u001b[38;5;28;01mreturn\u001b[39;00m \u001b[38;5;28;43mself\u001b[39;49m\u001b[38;5;241;43m.\u001b[39;49m\u001b[43mfunc\u001b[49m\u001b[43m(\u001b[49m\u001b[43mx\u001b[49m\u001b[43m)\u001b[49m\n",
      "Cell \u001b[0;32mIn[100], line 17\u001b[0m, in \u001b[0;36mget_date_features\u001b[0;34m(x)\u001b[0m\n\u001b[1;32m     16\u001b[0m \u001b[38;5;28;01mdef\u001b[39;00m \u001b[38;5;21mget_date_features\u001b[39m(x):\n\u001b[0;32m---> 17\u001b[0m     date \u001b[38;5;241m=\u001b[39m \u001b[43mpd\u001b[49m\u001b[38;5;241;43m.\u001b[39;49m\u001b[43mto_datetime\u001b[49m\u001b[43m(\u001b[49m\u001b[43mx\u001b[49m\u001b[43m[\u001b[49m\u001b[38;5;124;43m'\u001b[39;49m\u001b[38;5;124;43mdate\u001b[39;49m\u001b[38;5;124;43m'\u001b[39;49m\u001b[43m]\u001b[49m\u001b[43m)\u001b[49m\n\u001b[1;32m     18\u001b[0m     x[\u001b[38;5;124m'\u001b[39m\u001b[38;5;124mhour\u001b[39m\u001b[38;5;124m'\u001b[39m] \u001b[38;5;241m=\u001b[39m date\u001b[38;5;241m.\u001b[39mhour\n\u001b[1;32m     19\u001b[0m     x[\u001b[38;5;124m'\u001b[39m\u001b[38;5;124mday_of_week\u001b[39m\u001b[38;5;124m'\u001b[39m] \u001b[38;5;241m=\u001b[39m date\u001b[38;5;241m.\u001b[39mdayofweek\n",
      "File \u001b[0;32m/opt/homebrew/Caskroom/miniforge/base/lib/python3.10/site-packages/pandas/core/tools/datetimes.py:1101\u001b[0m, in \u001b[0;36mto_datetime\u001b[0;34m(arg, errors, dayfirst, yearfirst, utc, format, exact, unit, infer_datetime_format, origin, cache)\u001b[0m\n\u001b[1;32m   1099\u001b[0m         result \u001b[38;5;241m=\u001b[39m convert_listlike(argc, \u001b[38;5;28mformat\u001b[39m)\n\u001b[1;32m   1100\u001b[0m \u001b[38;5;28;01melse\u001b[39;00m:\n\u001b[0;32m-> 1101\u001b[0m     result \u001b[38;5;241m=\u001b[39m \u001b[43mconvert_listlike\u001b[49m\u001b[43m(\u001b[49m\u001b[43mnp\u001b[49m\u001b[38;5;241;43m.\u001b[39;49m\u001b[43marray\u001b[49m\u001b[43m(\u001b[49m\u001b[43m[\u001b[49m\u001b[43marg\u001b[49m\u001b[43m]\u001b[49m\u001b[43m)\u001b[49m\u001b[43m,\u001b[49m\u001b[43m \u001b[49m\u001b[38;5;28;43mformat\u001b[39;49m\u001b[43m)\u001b[49m[\u001b[38;5;241m0\u001b[39m]\n\u001b[1;32m   1102\u001b[0m     \u001b[38;5;28;01mif\u001b[39;00m \u001b[38;5;28misinstance\u001b[39m(arg, \u001b[38;5;28mbool\u001b[39m) \u001b[38;5;129;01mand\u001b[39;00m \u001b[38;5;28misinstance\u001b[39m(result, np\u001b[38;5;241m.\u001b[39mbool_):\n\u001b[1;32m   1103\u001b[0m         result \u001b[38;5;241m=\u001b[39m \u001b[38;5;28mbool\u001b[39m(result)  \u001b[38;5;66;03m# TODO: avoid this kludge.\u001b[39;00m\n",
      "File \u001b[0;32m/opt/homebrew/Caskroom/miniforge/base/lib/python3.10/site-packages/pandas/core/tools/datetimes.py:429\u001b[0m, in \u001b[0;36m_convert_listlike_datetimes\u001b[0;34m(arg, format, name, utc, unit, errors, dayfirst, yearfirst, exact)\u001b[0m\n\u001b[1;32m    426\u001b[0m arg \u001b[38;5;241m=\u001b[39m ensure_object(arg)\n\u001b[1;32m    428\u001b[0m \u001b[38;5;28;01mif\u001b[39;00m \u001b[38;5;28mformat\u001b[39m \u001b[38;5;129;01mis\u001b[39;00m \u001b[38;5;28;01mNone\u001b[39;00m:\n\u001b[0;32m--> 429\u001b[0m     \u001b[38;5;28mformat\u001b[39m \u001b[38;5;241m=\u001b[39m \u001b[43m_guess_datetime_format_for_array\u001b[49m\u001b[43m(\u001b[49m\u001b[43marg\u001b[49m\u001b[43m,\u001b[49m\u001b[43m \u001b[49m\u001b[43mdayfirst\u001b[49m\u001b[38;5;241;43m=\u001b[39;49m\u001b[43mdayfirst\u001b[49m\u001b[43m)\u001b[49m\n\u001b[1;32m    431\u001b[0m \u001b[38;5;66;03m# `format` could be inferred, or user didn't ask for mixed-format parsing.\u001b[39;00m\n\u001b[1;32m    432\u001b[0m \u001b[38;5;28;01mif\u001b[39;00m \u001b[38;5;28mformat\u001b[39m \u001b[38;5;129;01mis\u001b[39;00m \u001b[38;5;129;01mnot\u001b[39;00m \u001b[38;5;28;01mNone\u001b[39;00m \u001b[38;5;129;01mand\u001b[39;00m \u001b[38;5;28mformat\u001b[39m \u001b[38;5;241m!=\u001b[39m \u001b[38;5;124m\"\u001b[39m\u001b[38;5;124mmixed\u001b[39m\u001b[38;5;124m\"\u001b[39m:\n",
      "File \u001b[0;32m/opt/homebrew/Caskroom/miniforge/base/lib/python3.10/site-packages/pandas/core/tools/datetimes.py:131\u001b[0m, in \u001b[0;36m_guess_datetime_format_for_array\u001b[0;34m(arr, dayfirst)\u001b[0m\n\u001b[1;32m    128\u001b[0m \u001b[38;5;28;01mif\u001b[39;00m (first_non_null \u001b[38;5;241m:=\u001b[39m tslib\u001b[38;5;241m.\u001b[39mfirst_non_null(arr)) \u001b[38;5;241m!=\u001b[39m \u001b[38;5;241m-\u001b[39m\u001b[38;5;241m1\u001b[39m:\n\u001b[1;32m    129\u001b[0m     \u001b[38;5;28;01mif\u001b[39;00m \u001b[38;5;28mtype\u001b[39m(first_non_nan_element \u001b[38;5;241m:=\u001b[39m arr[first_non_null]) \u001b[38;5;129;01mis\u001b[39;00m \u001b[38;5;28mstr\u001b[39m:  \u001b[38;5;66;03m# noqa: E721\u001b[39;00m\n\u001b[1;32m    130\u001b[0m         \u001b[38;5;66;03m# GH#32264 np.str_ object\u001b[39;00m\n\u001b[0;32m--> 131\u001b[0m         guessed_format \u001b[38;5;241m=\u001b[39m \u001b[43mguess_datetime_format\u001b[49m\u001b[43m(\u001b[49m\n\u001b[1;32m    132\u001b[0m \u001b[43m            \u001b[49m\u001b[43mfirst_non_nan_element\u001b[49m\u001b[43m,\u001b[49m\u001b[43m \u001b[49m\u001b[43mdayfirst\u001b[49m\u001b[38;5;241;43m=\u001b[39;49m\u001b[43mdayfirst\u001b[49m\n\u001b[1;32m    133\u001b[0m \u001b[43m        \u001b[49m\u001b[43m)\u001b[49m\n\u001b[1;32m    134\u001b[0m         \u001b[38;5;28;01mif\u001b[39;00m guessed_format \u001b[38;5;129;01mis\u001b[39;00m \u001b[38;5;129;01mnot\u001b[39;00m \u001b[38;5;28;01mNone\u001b[39;00m:\n\u001b[1;32m    135\u001b[0m             \u001b[38;5;28;01mreturn\u001b[39;00m guessed_format\n",
      "File \u001b[0;32mparsing.pyx:947\u001b[0m, in \u001b[0;36mpandas._libs.tslibs.parsing.guess_datetime_format\u001b[0;34m()\u001b[0m\n",
      "File \u001b[0;32mparsing.pyx:660\u001b[0m, in \u001b[0;36mpandas._libs.tslibs.parsing.dateutil_parse\u001b[0;34m()\u001b[0m\n",
      "File \u001b[0;32m/opt/homebrew/Caskroom/miniforge/base/lib/python3.10/site-packages/dateutil/parser/_parser.py:719\u001b[0m, in \u001b[0;36mparser._parse\u001b[0;34m(self, timestr, dayfirst, yearfirst, fuzzy, fuzzy_with_tokens)\u001b[0m\n\u001b[1;32m    716\u001b[0m     yearfirst \u001b[38;5;241m=\u001b[39m info\u001b[38;5;241m.\u001b[39myearfirst\n\u001b[1;32m    718\u001b[0m res \u001b[38;5;241m=\u001b[39m \u001b[38;5;28mself\u001b[39m\u001b[38;5;241m.\u001b[39m_result()\n\u001b[0;32m--> 719\u001b[0m l \u001b[38;5;241m=\u001b[39m \u001b[43m_timelex\u001b[49m\u001b[38;5;241;43m.\u001b[39;49m\u001b[43msplit\u001b[49m\u001b[43m(\u001b[49m\u001b[43mtimestr\u001b[49m\u001b[43m)\u001b[49m         \u001b[38;5;66;03m# Splits the timestr into tokens\u001b[39;00m\n\u001b[1;32m    721\u001b[0m skipped_idxs \u001b[38;5;241m=\u001b[39m []\n\u001b[1;32m    723\u001b[0m \u001b[38;5;66;03m# year/month/day list\u001b[39;00m\n",
      "File \u001b[0;32m/opt/homebrew/Caskroom/miniforge/base/lib/python3.10/site-packages/dateutil/parser/_parser.py:201\u001b[0m, in \u001b[0;36m_timelex.split\u001b[0;34m(cls, s)\u001b[0m\n\u001b[1;32m    199\u001b[0m \u001b[38;5;129m@classmethod\u001b[39m\n\u001b[1;32m    200\u001b[0m \u001b[38;5;28;01mdef\u001b[39;00m \u001b[38;5;21msplit\u001b[39m(\u001b[38;5;28mcls\u001b[39m, s):\n\u001b[0;32m--> 201\u001b[0m     \u001b[38;5;28;01mreturn\u001b[39;00m \u001b[38;5;28;43mlist\u001b[39;49m\u001b[43m(\u001b[49m\u001b[38;5;28;43mcls\u001b[39;49m\u001b[43m(\u001b[49m\u001b[43ms\u001b[49m\u001b[43m)\u001b[49m\u001b[43m)\u001b[49m\n",
      "File \u001b[0;32m/opt/homebrew/Caskroom/miniforge/base/lib/python3.10/site-packages/dateutil/parser/_parser.py:190\u001b[0m, in \u001b[0;36m_timelex.__next__\u001b[0;34m(self)\u001b[0m\n\u001b[1;32m    189\u001b[0m \u001b[38;5;28;01mdef\u001b[39;00m \u001b[38;5;21m__next__\u001b[39m(\u001b[38;5;28mself\u001b[39m):\n\u001b[0;32m--> 190\u001b[0m     token \u001b[38;5;241m=\u001b[39m \u001b[38;5;28;43mself\u001b[39;49m\u001b[38;5;241;43m.\u001b[39;49m\u001b[43mget_token\u001b[49m\u001b[43m(\u001b[49m\u001b[43m)\u001b[49m\n\u001b[1;32m    191\u001b[0m     \u001b[38;5;28;01mif\u001b[39;00m token \u001b[38;5;129;01mis\u001b[39;00m \u001b[38;5;28;01mNone\u001b[39;00m:\n\u001b[1;32m    192\u001b[0m         \u001b[38;5;28;01mraise\u001b[39;00m \u001b[38;5;167;01mStopIteration\u001b[39;00m\n",
      "File \u001b[0;32m/opt/homebrew/Caskroom/miniforge/base/lib/python3.10/site-packages/dateutil/parser/_parser.py:117\u001b[0m, in \u001b[0;36m_timelex.get_token\u001b[0;34m(self)\u001b[0m\n\u001b[1;32m    113\u001b[0m \u001b[38;5;28;01melif\u001b[39;00m \u001b[38;5;129;01mnot\u001b[39;00m state:\n\u001b[1;32m    114\u001b[0m     \u001b[38;5;66;03m# First character of the token - determines if we're starting\u001b[39;00m\n\u001b[1;32m    115\u001b[0m     \u001b[38;5;66;03m# to parse a word, a number or something else.\u001b[39;00m\n\u001b[1;32m    116\u001b[0m     token \u001b[38;5;241m=\u001b[39m nextchar\n\u001b[0;32m--> 117\u001b[0m     \u001b[38;5;28;01mif\u001b[39;00m \u001b[38;5;28;43mself\u001b[39;49m\u001b[38;5;241;43m.\u001b[39;49m\u001b[43misword\u001b[49m\u001b[43m(\u001b[49m\u001b[43mnextchar\u001b[49m\u001b[43m)\u001b[49m:\n\u001b[1;32m    118\u001b[0m         state \u001b[38;5;241m=\u001b[39m \u001b[38;5;124m'\u001b[39m\u001b[38;5;124ma\u001b[39m\u001b[38;5;124m'\u001b[39m\n\u001b[1;32m    119\u001b[0m     \u001b[38;5;28;01melif\u001b[39;00m \u001b[38;5;28mself\u001b[39m\u001b[38;5;241m.\u001b[39misnum(nextchar):\n",
      "File \u001b[0;32m/opt/homebrew/Caskroom/miniforge/base/lib/python3.10/site-packages/dateutil/parser/_parser.py:206\u001b[0m, in \u001b[0;36m_timelex.isword\u001b[0;34m(cls, nextchar)\u001b[0m\n\u001b[1;32m    203\u001b[0m \u001b[38;5;129m@classmethod\u001b[39m\n\u001b[1;32m    204\u001b[0m \u001b[38;5;28;01mdef\u001b[39;00m \u001b[38;5;21misword\u001b[39m(\u001b[38;5;28mcls\u001b[39m, nextchar):\n\u001b[1;32m    205\u001b[0m \u001b[38;5;250m    \u001b[39m\u001b[38;5;124;03m\"\"\" Whether or not the next character is part of a word \"\"\"\u001b[39;00m\n\u001b[0;32m--> 206\u001b[0m     \u001b[38;5;28;01mreturn\u001b[39;00m \u001b[43mnextchar\u001b[49m\u001b[38;5;241;43m.\u001b[39;49m\u001b[43misalpha\u001b[49m\u001b[43m(\u001b[49m\u001b[43m)\u001b[49m\n",
      "\u001b[0;31mKeyboardInterrupt\u001b[0m: "
     ]
    }
   ],
   "source": [
    "# Evaluate the model using progressive validation\n",
    "metric = metrics.MAE()\n",
    "\n",
    "results = evaluate.progressive_val_score(dataset=data_stream, model=model, metric=metric, print_every=1000)\n",
    "print(results)"
   ]
  },
  {
   "cell_type": "code",
   "execution_count": null,
   "metadata": {},
   "outputs": [],
   "source": [
    "\n",
    "# Convert the DataFrame to a stream of dictionaries which is required by River\n",
    "data_stream = stream.iter_csv('data/air_pollution_dataset_modified.csv', target='pred_pollution', \n",
    "                                                                         converters={'current_pollution': float, 'dew': float,\n",
    "                                                                                     'temp': float, 'press': float, \n",
    "                                                                                     'wnd_spd': float, 'snow': float, \n",
    "                                                                                     'rain': float, 'pred_pollution': float})\n",
    "\n",
    "# Custom function to generate date-related features within the pipeline\n",
    "def get_date_features(x):\n",
    "    date = pd.to_datetime(x['date'])\n",
    "    x['hour'] = date.hour\n",
    "    x['day_of_week'] = date.dayofweek\n",
    "    x['month'] = date.month\n",
    "    return x\n"
   ]
  },
  {
   "cell_type": "code",
   "execution_count": 2,
   "metadata": {},
   "outputs": [
    {
     "ename": "AttributeError",
     "evalue": "'TransformerUnion' object has no attribute 'debug_one'",
     "output_type": "error",
     "traceback": [
      "\u001b[0;31m---------------------------------------------------------------------------\u001b[0m",
      "\u001b[0;31mAttributeError\u001b[0m                            Traceback (most recent call last)",
      "Cell \u001b[0;32mIn[2], line 12\u001b[0m\n\u001b[1;32m      5\u001b[0m \u001b[38;5;66;03m#    compose.Discard('date'),  # Discard 'date' feature\u001b[39;00m\n\u001b[1;32m      6\u001b[0m \u001b[38;5;66;03m#    preprocessing.StandardScaler(),  # Apply StandardScaler \u001b[39;00m\n\u001b[1;32m      7\u001b[0m \u001b[38;5;66;03m#    linear_model.LinearRegression()  # Linear regression model\u001b[39;00m\n\u001b[1;32m      8\u001b[0m \n\u001b[1;32m      9\u001b[0m \n\u001b[1;32m     10\u001b[0m \u001b[38;5;66;03m# Print the debug information for the next sample in the data stream\u001b[39;00m\n\u001b[1;32m     11\u001b[0m x, y \u001b[38;5;241m=\u001b[39m \u001b[38;5;28mnext\u001b[39m(data_stream)\n\u001b[0;32m---> 12\u001b[0m \u001b[38;5;28mprint\u001b[39m(\u001b[43mpipeline\u001b[49m\u001b[38;5;241;43m.\u001b[39;49m\u001b[43mdebug_one\u001b[49m(x))\n",
      "\u001b[0;31mAttributeError\u001b[0m: 'TransformerUnion' object has no attribute 'debug_one'"
     ]
    }
   ],
   "source": [
    "pipeline = compose.FuncTransformer(get_date_features)\\\n",
    "            +(compose.Select('wnd_dir') | preprocessing.OneHotEncoder(drop_zeros=False))\\\n",
    "            +compose.Select('current_pollution', 'dew', 'temp', 'press', 'wnd_spd', 'snow', 'rain', 'hour', 'day_of_week', 'month')\n",
    "\n",
    "#    compose.Discard('date'),  # Discard 'date' feature\n",
    "#    preprocessing.StandardScaler(),  # Apply StandardScaler \n",
    "#    linear_model.LinearRegression()  # Linear regression model\n",
    "\n",
    "\n",
    "# Print the debug information for the next sample in the data stream\n",
    "x, y = next(data_stream)\n",
    "print(model.debug_one(x))\n"
   ]
  },
  {
   "cell_type": "markdown",
   "metadata": {},
   "source": [
    "### One of the models must be "
   ]
  },
  {
   "cell_type": "code",
   "execution_count": 4,
   "metadata": {},
   "outputs": [
    {
     "name": "stdout",
     "output_type": "stream",
     "text": [
      "0. Input\n",
      "--------\n",
      "current_pollution: 129.00000 (float)\n",
      "date: 2010-01-03 00:00:00 (str)\n",
      "dew: -7.00000 (float)\n",
      "press: 1,027.00000 (float)\n",
      "rain: 0.00000 (float)\n",
      "snow: 4.00000 (float)\n",
      "temp: -6.00000 (float)\n",
      "wnd_dir: SE (str)\n",
      "wnd_spd: 58.56000 (float)\n",
      "\n",
      "1. ['wnd_dir']\n",
      "--------------\n",
      "wnd_dir: SE (str)\n"
     ]
    }
   ],
   "source": [
    "data_stream = stream.iter_csv('data/air_pollution_dataset_modified.csv', target='pred_pollution',\n",
    "                                                                         converters={'current_pollution': float, 'dew': float,\n",
    "                                                                                     'temp': float, 'press': float,\n",
    "                                                                                     'wnd_spd': float,  'snow': float,\n",
    "                                                                                     'rain': float, 'pred_pollution': float})\n",
    "\n",
    "\n",
    "# Define the pipeline\n",
    "model = compose.Pipeline(\n",
    "       compose.Select('wnd_dir'),\n",
    "    preprocessing.OneHotEncoder(drop_zeros=False),  # Apply OneHotEncoder only to 'wnd_dir'\n",
    " \n",
    ")\n",
    "\n",
    "x, y = next(data_stream)\n",
    "print(model.debug_one(x))\n"
   ]
  },
  {
   "cell_type": "markdown",
   "metadata": {},
   "source": [
    "### Model given by the teacher."
   ]
  },
  {
   "cell_type": "code",
   "execution_count": 7,
   "metadata": {},
   "outputs": [
    {
     "ename": "AttributeError",
     "evalue": "'TransformerUnion' object has no attribute 'debug_one'",
     "output_type": "error",
     "traceback": [
      "\u001b[0;31m---------------------------------------------------------------------------\u001b[0m",
      "\u001b[0;31mAttributeError\u001b[0m                            Traceback (most recent call last)",
      "Cell \u001b[0;32mIn[7], line 12\u001b[0m\n\u001b[1;32m      9\u001b[0m model \u001b[38;5;241m=\u001b[39m (compose\u001b[38;5;241m.\u001b[39mSelect(\u001b[38;5;124m'\u001b[39m\u001b[38;5;124mcurrent_pollution\u001b[39m\u001b[38;5;124m'\u001b[39m, \u001b[38;5;124m'\u001b[39m\u001b[38;5;124mdew\u001b[39m\u001b[38;5;124m'\u001b[39m, \u001b[38;5;124m'\u001b[39m\u001b[38;5;124mtemp\u001b[39m\u001b[38;5;124m'\u001b[39m, \u001b[38;5;124m'\u001b[39m\u001b[38;5;124mpress\u001b[39m\u001b[38;5;124m'\u001b[39m, \u001b[38;5;124m'\u001b[39m\u001b[38;5;124mwnd_spd\u001b[39m\u001b[38;5;124m'\u001b[39m, \u001b[38;5;124m'\u001b[39m\u001b[38;5;124msnow\u001b[39m\u001b[38;5;124m'\u001b[39m, \u001b[38;5;124m'\u001b[39m\u001b[38;5;124mrain\u001b[39m\u001b[38;5;124m'\u001b[39m)\u001b[38;5;241m|\u001b[39mpreprocessing\u001b[38;5;241m.\u001b[39mStandardScaler())\u001b[38;5;241m+\u001b[39m(compose\u001b[38;5;241m.\u001b[39mSelect(\u001b[38;5;124m'\u001b[39m\u001b[38;5;124mwnd_dir\u001b[39m\u001b[38;5;124m'\u001b[39m) \u001b[38;5;241m|\u001b[39m preprocessing\u001b[38;5;241m.\u001b[39mOneHotEncoder(drop_zeros\u001b[38;5;241m=\u001b[39m\u001b[38;5;28;01mFalse\u001b[39;00m))\n\u001b[1;32m     11\u001b[0m x, y \u001b[38;5;241m=\u001b[39m \u001b[38;5;28mnext\u001b[39m(data_stream)\n\u001b[0;32m---> 12\u001b[0m \u001b[38;5;28mprint\u001b[39m(\u001b[43mmodel\u001b[49m\u001b[38;5;241;43m.\u001b[39;49m\u001b[43mdebug_one\u001b[49m(x))\n",
      "\u001b[0;31mAttributeError\u001b[0m: 'TransformerUnion' object has no attribute 'debug_one'"
     ]
    }
   ],
   "source": [
    "data_stream = stream.iter_csv('data/air_pollution_dataset_modified.csv', target='pred_pollution',\n",
    "                                                                         converters={'current_pollution': float, 'dew': float,\n",
    "                                                                                     'temp': float, 'press': float,\n",
    "                                                                                     'wnd_spd': float,  'snow': float,\n",
    "                                                                                     'rain': float, 'pred_pollution': float})\n",
    "\n",
    "# Define the pipeline\n",
    "model = (compose.Select('current_pollution', 'dew', 'temp', 'press', 'wnd_spd', 'snow', 'rain')|preprocessing.StandardScaler())+(compose.Select('wnd_dir') | preprocessing.OneHotEncoder(drop_zeros=False))\n",
    "\n",
    "x, y = next(data_stream)\n",
    "print(model.debug_one(x))"
   ]
  },
  {
   "cell_type": "markdown",
   "metadata": {},
   "source": [
    "## 7. Results and Conclusions \n",
    "Together with notebook presentation max. 2 points. \n",
    "* Oral presentation 2 points."
   ]
  },
  {
   "cell_type": "markdown",
   "metadata": {},
   "source": []
  }
 ],
 "metadata": {
  "kernelspec": {
   "display_name": "base",
   "language": "python",
   "name": "python3"
  },
  "language_info": {
   "codemirror_mode": {
    "name": "ipython",
    "version": 3
   },
   "file_extension": ".py",
   "mimetype": "text/x-python",
   "name": "python",
   "nbconvert_exporter": "python",
   "pygments_lexer": "ipython3",
   "version": "3.10.8"
  }
 },
 "nbformat": 4,
 "nbformat_minor": 2
}
